{
 "cells": [
  {
   "cell_type": "code",
   "execution_count": 3,
   "id": "56a98bfc",
   "metadata": {},
   "outputs": [],
   "source": [
    "import os\n",
    "import csv \n",
    "import pandas as pd\n",
    "import librosa\n",
    "import numpy as np\n",
    "\n",
    "pathname=[]\n",
    "filename=[]\n",
    "mfccsfeatures = []\n",
    "foldername = []\n",
    "for root, dirs, files in os.walk(r\"C:\\Users\\Chandhinii.B\\Desktop\\Electrical engineering course\\Winter semester 2022\\Ferdinand steinbeis institute\\AI\\Dataset\"): \n",
    "    for fname in files:\n",
    "        if fname.endswith('.wav'):\n",
    "            path = os.path.join(root, fname)\n",
    "            pathname.append(path)\n",
    "            audio, sample_rate = librosa.load(path)\n",
    "            mfccs_features = librosa.feature.mfcc(y=audio, sr=sample_rate, n_mfcc=40)\n",
    "            mfccs_scaled_features = np.mean(mfccs_features.T,axis=0)\n",
    "            mfccsfeatures.append(mfccs_scaled_features)\n",
    "for i in pathname:\n",
    "    Name = os.path.basename(i)\n",
    "    filename.append(Name) \n",
    "    folder = i.split(os.path.sep)[-3]\n",
    "    foldername.append(folder)\n",
    "columns=['Pathname', 'Filename','MFCCfeatures','Foldername']            \n",
    "df = pd.DataFrame(list(zip(pathname, filename,mfccsfeatures,foldername)),\n",
    "                 columns=columns)\n",
    "\n",
    "df.loc[(df['Filename'].str.contains(\"_niO_\")) & (df['Foldername'].str.contains(\"hydr\")), \"Class\"]=\"leak present under hydr environment\"\n",
    "df.loc[(df['Filename'].str.contains(\"_iO_\")) & (df['Foldername'].str.contains(\"hydr\")), \"Class\"]=\"no leak present under hydr environment\"\n",
    "df.loc[(df['Filename'].str.contains(\"_niO_\")) & (df['Foldername'].str.contains(\"hydr_low\")), \"Class\"]=\"leak present under hydr_low environment\"\n",
    "df.loc[(df['Filename'].str.contains(\"_iO_\")) & (df['Foldername'].str.contains(\"hydr_low\")), \"Class\"]=\"no leak present under hydr_low environment\"\n",
    "df.loc[(df['Filename'].str.contains(\"_niO_\")) & (df['Foldername'].str.contains(\"lab\")), \"Class\"]=\"leak present under lab environment\"\n",
    "df.loc[(df['Filename'].str.contains(\"_iO_\")) & (df['Foldername'].str.contains(\"lab\")), \"Class\"]=\"no leak present under lab environment\"\n",
    "df.loc[(df['Filename'].str.contains(\"_niO_\")) & (df['Foldername'].str.contains(\"work\")), \"Class\"]=\"leak present under work environment\"\n",
    "df.loc[(df['Filename'].str.contains(\"_iO_\")) & (df['Foldername'].str.contains(\"work\")), \"Class\"]=\"no leak present under work environment\"\n",
    "df.loc[(df['Filename'].str.contains(\"_niO_\")) & (df['Foldername'].str.contains(\"work_low\")), \"Class\"]=\"leak present under work_low environment\"\n",
    "df.loc[(df['Filename'].str.contains(\"_iO_\")) & (df['Foldername'].str.contains(\"work_low\")), \"Class\"]=\"no leak present under work_low environment\"\n",
    "\n",
    "# Convert the numpy arrays in the 'MFCCfeatures' column to regular lists\n",
    "df['MFCCfeatures'] = df['MFCCfeatures'].apply(lambda row: row.tolist())\n",
    "\n",
    "df.to_csv('newmulticlass.csv', index=False)"
   ]
  },
  {
   "cell_type": "code",
   "execution_count": 5,
   "id": "c537e31c",
   "metadata": {},
   "outputs": [],
   "source": [
    "### Split the dataset into independent and dependent dataset\n",
    "X=np.array(df['MFCCfeatures'].tolist())\n",
    "y=np.array(df['Class'].tolist())"
   ]
  },
  {
   "cell_type": "code",
   "execution_count": 55,
   "id": "02584fde",
   "metadata": {},
   "outputs": [
    {
     "data": {
      "text/plain": [
       "(1920, 40)"
      ]
     },
     "execution_count": 55,
     "metadata": {},
     "output_type": "execute_result"
    }
   ],
   "source": [
    "X.shape"
   ]
  },
  {
   "cell_type": "code",
   "execution_count": 56,
   "id": "90b66269",
   "metadata": {},
   "outputs": [
    {
     "data": {
      "text/plain": [
       "(1920,)"
      ]
     },
     "execution_count": 56,
     "metadata": {},
     "output_type": "execute_result"
    }
   ],
   "source": [
    "y.shape"
   ]
  },
  {
   "cell_type": "code",
   "execution_count": 57,
   "id": "4e2df307",
   "metadata": {},
   "outputs": [
    {
     "data": {
      "text/plain": [
       "array(['no leak present under hydr environment',\n",
       "       'no leak present under hydr environment',\n",
       "       'no leak present under hydr environment', ...,\n",
       "       'leak present under work_low environment',\n",
       "       'leak present under work_low environment',\n",
       "       'leak present under work_low environment'], dtype='<U42')"
      ]
     },
     "execution_count": 57,
     "metadata": {},
     "output_type": "execute_result"
    }
   ],
   "source": [
    "y"
   ]
  },
  {
   "cell_type": "code",
   "execution_count": 58,
   "id": "b6b35895",
   "metadata": {},
   "outputs": [],
   "source": [
    "### Label Encoding\n",
    "###y=np.array(pd.get_dummies(y))\n",
    "### Label Encoder\n",
    "import tensorflow as tf\n",
    "import sklearn\n",
    "from tensorflow.keras.utils import to_categorical\n",
    "from sklearn.preprocessing import LabelEncoder\n",
    "labelencoder=LabelEncoder()\n",
    "y=to_categorical(labelencoder.fit_transform(y))"
   ]
  },
  {
   "cell_type": "code",
   "execution_count": 59,
   "id": "ea59bbef",
   "metadata": {},
   "outputs": [
    {
     "data": {
      "text/plain": [
       "array([[0., 0., 0., ..., 0., 0., 0.],\n",
       "       [0., 0., 0., ..., 0., 0., 0.],\n",
       "       [0., 0., 0., ..., 0., 0., 0.],\n",
       "       ...,\n",
       "       [0., 0., 0., ..., 0., 0., 0.],\n",
       "       [0., 0., 0., ..., 0., 0., 0.],\n",
       "       [0., 0., 0., ..., 0., 0., 0.]], dtype=float32)"
      ]
     },
     "execution_count": 59,
     "metadata": {},
     "output_type": "execute_result"
    }
   ],
   "source": [
    "y"
   ]
  },
  {
   "cell_type": "code",
   "execution_count": 60,
   "id": "55f405e5",
   "metadata": {},
   "outputs": [
    {
     "data": {
      "text/plain": [
       "(1920, 10)"
      ]
     },
     "execution_count": 60,
     "metadata": {},
     "output_type": "execute_result"
    }
   ],
   "source": [
    "y.shape"
   ]
  },
  {
   "cell_type": "code",
   "execution_count": 61,
   "id": "c27603d3",
   "metadata": {},
   "outputs": [],
   "source": [
    "### Train Test Split\n",
    "from sklearn.model_selection import train_test_split\n",
    "X_train,X_test,y_train,y_test=train_test_split(X,y,test_size=0.2,random_state=0)"
   ]
  },
  {
   "cell_type": "code",
   "execution_count": 62,
   "id": "aece116b",
   "metadata": {},
   "outputs": [],
   "source": [
    "### Train Test Split\n",
    "from sklearn.model_selection import train_test_split\n",
    "X_train1,X_val1,y_train1,y_val1=train_test_split(X_train,y_train,test_size=0.2,random_state=0)"
   ]
  },
  {
   "cell_type": "code",
   "execution_count": 63,
   "id": "2b9610e2",
   "metadata": {},
   "outputs": [
    {
     "data": {
      "text/plain": [
       "array([[-5.89160217e+02,  1.11917107e+02, -2.63834553e+01, ...,\n",
       "         1.96955252e+00, -4.97429878e-01, -2.54998684e+00],\n",
       "       [ 3.59508286e+01,  1.07450424e+02, -2.82182369e+01, ...,\n",
       "         9.87263262e-01, -3.70792580e+00, -1.10788774e+00],\n",
       "       [-1.65684937e+02,  1.25302376e+02, -1.47577353e+01, ...,\n",
       "        -5.78654930e-02, -3.81086707e+00, -2.00662208e+00],\n",
       "       ...,\n",
       "       [-6.22109741e+02,  3.71372719e+01,  3.77605286e+01, ...,\n",
       "         4.62408113e+00, -1.71339083e+00,  5.89297056e+00],\n",
       "       [-3.82912865e+01,  1.06032639e+02, -2.82810173e+01, ...,\n",
       "         1.07985961e+00,  8.70699108e-01, -2.31530249e-01],\n",
       "       [-5.55439514e+02, -2.18785739e+00,  3.43869133e+01, ...,\n",
       "         3.18641281e+00, -2.05684328e+00,  3.69598866e+00]], dtype=float32)"
      ]
     },
     "execution_count": 63,
     "metadata": {},
     "output_type": "execute_result"
    }
   ],
   "source": [
    "X_train1"
   ]
  },
  {
   "cell_type": "code",
   "execution_count": 64,
   "id": "c26a320c",
   "metadata": {},
   "outputs": [
    {
     "data": {
      "text/plain": [
       "(1228, 40)"
      ]
     },
     "execution_count": 64,
     "metadata": {},
     "output_type": "execute_result"
    }
   ],
   "source": [
    "X_train1.shape"
   ]
  },
  {
   "cell_type": "code",
   "execution_count": 65,
   "id": "2dcf1f3f",
   "metadata": {},
   "outputs": [
    {
     "data": {
      "text/plain": [
       "array([[0., 0., 0., ..., 0., 0., 0.],\n",
       "       [0., 0., 0., ..., 0., 0., 0.],\n",
       "       [0., 0., 0., ..., 0., 0., 1.],\n",
       "       ...,\n",
       "       [0., 0., 1., ..., 0., 0., 0.],\n",
       "       [0., 1., 0., ..., 0., 0., 0.],\n",
       "       [0., 0., 1., ..., 0., 0., 0.]], dtype=float32)"
      ]
     },
     "execution_count": 65,
     "metadata": {},
     "output_type": "execute_result"
    }
   ],
   "source": [
    "y_train1"
   ]
  },
  {
   "cell_type": "code",
   "execution_count": 66,
   "id": "c42f3e93",
   "metadata": {},
   "outputs": [
    {
     "data": {
      "text/plain": [
       "(1228, 10)"
      ]
     },
     "execution_count": 66,
     "metadata": {},
     "output_type": "execute_result"
    }
   ],
   "source": [
    "y_train1.shape"
   ]
  },
  {
   "cell_type": "code",
   "execution_count": 67,
   "id": "c1a89955",
   "metadata": {},
   "outputs": [
    {
     "data": {
      "text/plain": [
       "array([[-1.29332870e+02,  1.14742836e+02, -1.62270622e+01, ...,\n",
       "         4.11653340e-01, -1.07145929e+00,  4.52179766e+00],\n",
       "       [-2.07831390e+02,  1.07808159e+02, -2.25484047e+01, ...,\n",
       "         5.86319685e+00,  3.58753967e+00,  2.08414388e+00],\n",
       "       [-3.66597443e+02,  1.25540649e+02, -1.19513016e+01, ...,\n",
       "         2.33770579e-01, -4.29995441e+00,  3.27578664e-01],\n",
       "       ...,\n",
       "       [-2.63272461e+02,  1.27412933e+02, -2.19810867e+01, ...,\n",
       "         2.61526012e+00,  6.64255440e-01, -2.37703013e+00],\n",
       "       [-1.83053680e+02,  1.11718788e+02, -2.32664242e+01, ...,\n",
       "        -2.82130480e-01,  1.00475347e+00, -1.33082998e+00],\n",
       "       [-2.10275757e+02, -2.33212414e+01,  2.91139870e+01, ...,\n",
       "         4.34789562e+00, -2.83571172e+00,  3.68305802e+00]], dtype=float32)"
      ]
     },
     "execution_count": 67,
     "metadata": {},
     "output_type": "execute_result"
    }
   ],
   "source": [
    "X_val1"
   ]
  },
  {
   "cell_type": "code",
   "execution_count": 68,
   "id": "396207cb",
   "metadata": {},
   "outputs": [
    {
     "data": {
      "text/plain": [
       "(308, 40)"
      ]
     },
     "execution_count": 68,
     "metadata": {},
     "output_type": "execute_result"
    }
   ],
   "source": [
    "X_val1.shape"
   ]
  },
  {
   "cell_type": "code",
   "execution_count": 69,
   "id": "5daba96f",
   "metadata": {},
   "outputs": [
    {
     "data": {
      "text/plain": [
       "array([[1., 0., 0., ..., 0., 0., 0.],\n",
       "       [0., 1., 0., ..., 0., 0., 0.],\n",
       "       [0., 0., 0., ..., 0., 0., 0.],\n",
       "       ...,\n",
       "       [0., 0., 0., ..., 0., 0., 0.],\n",
       "       [1., 0., 0., ..., 0., 0., 0.],\n",
       "       [0., 0., 1., ..., 0., 0., 0.]], dtype=float32)"
      ]
     },
     "execution_count": 69,
     "metadata": {},
     "output_type": "execute_result"
    }
   ],
   "source": [
    "y_val1"
   ]
  },
  {
   "cell_type": "code",
   "execution_count": 70,
   "id": "d0db9a95",
   "metadata": {},
   "outputs": [
    {
     "data": {
      "text/plain": [
       "(308, 10)"
      ]
     },
     "execution_count": 70,
     "metadata": {},
     "output_type": "execute_result"
    }
   ],
   "source": [
    "y_val1.shape"
   ]
  },
  {
   "cell_type": "code",
   "execution_count": 71,
   "id": "b6ec7c93",
   "metadata": {},
   "outputs": [
    {
     "data": {
      "text/plain": [
       "array([[ 1.0179053e+02,  9.3991333e+01, -2.9575699e+01, ...,\n",
       "        -1.0559944e+00, -3.0886371e+00,  3.8256998e+00],\n",
       "       [-3.2850671e+02,  1.2404733e+02, -1.6530666e+01, ...,\n",
       "         2.3192565e+00, -1.3769592e+00,  1.4374379e+00],\n",
       "       [-3.0636273e+02,  1.2052312e+02, -1.2006161e+01, ...,\n",
       "        -1.0191236e-01, -5.3504175e-01,  1.7044108e+00],\n",
       "       ...,\n",
       "       [ 3.9836143e+01,  1.0053997e+02, -2.7540241e+01, ...,\n",
       "        -2.1920428e+00, -3.2234104e+00,  2.1398275e+00],\n",
       "       [-2.5685718e+02,  1.2257015e+02, -2.4637440e+01, ...,\n",
       "        -8.7552351e-01,  1.6677562e-02,  2.7184291e+00],\n",
       "       [-3.8511575e+02,  1.3076958e+02, -7.5765908e-01, ...,\n",
       "         3.5206965e-01, -2.2166533e+00,  2.6423469e+00]], dtype=float32)"
      ]
     },
     "execution_count": 71,
     "metadata": {},
     "output_type": "execute_result"
    }
   ],
   "source": [
    "X_test"
   ]
  },
  {
   "cell_type": "code",
   "execution_count": 72,
   "id": "ce887566",
   "metadata": {},
   "outputs": [
    {
     "data": {
      "text/plain": [
       "(384, 40)"
      ]
     },
     "execution_count": 72,
     "metadata": {},
     "output_type": "execute_result"
    }
   ],
   "source": [
    "X_test.shape"
   ]
  },
  {
   "cell_type": "code",
   "execution_count": 73,
   "id": "ca25cddf",
   "metadata": {},
   "outputs": [
    {
     "data": {
      "text/plain": [
       "array([[1., 0., 0., ..., 0., 0., 0.],\n",
       "       [0., 0., 0., ..., 0., 0., 1.],\n",
       "       [0., 0., 0., ..., 0., 0., 0.],\n",
       "       ...,\n",
       "       [1., 0., 0., ..., 0., 0., 0.],\n",
       "       [0., 0., 0., ..., 0., 0., 0.],\n",
       "       [0., 0., 0., ..., 0., 0., 0.]], dtype=float32)"
      ]
     },
     "execution_count": 73,
     "metadata": {},
     "output_type": "execute_result"
    }
   ],
   "source": [
    "y_test"
   ]
  },
  {
   "cell_type": "code",
   "execution_count": 74,
   "id": "612beca9",
   "metadata": {},
   "outputs": [
    {
     "data": {
      "text/plain": [
       "(384, 10)"
      ]
     },
     "execution_count": 74,
     "metadata": {},
     "output_type": "execute_result"
    }
   ],
   "source": [
    "y_test.shape"
   ]
  },
  {
   "cell_type": "code",
   "execution_count": 75,
   "id": "ae831516",
   "metadata": {},
   "outputs": [
    {
     "name": "stdout",
     "output_type": "stream",
     "text": [
      "2.9.1\n"
     ]
    }
   ],
   "source": [
    "import tensorflow as tf\n",
    "print(tf.__version__)"
   ]
  },
  {
   "cell_type": "code",
   "execution_count": 76,
   "id": "fe27d4f2",
   "metadata": {},
   "outputs": [],
   "source": [
    "from tensorflow.keras.models import Sequential\n",
    "from tensorflow.keras.layers import Dense,Dropout,Activation,Flatten\n",
    "from tensorflow.keras.optimizers import Adam\n",
    "from sklearn import metrics"
   ]
  },
  {
   "cell_type": "code",
   "execution_count": 77,
   "id": "b0aba500",
   "metadata": {},
   "outputs": [],
   "source": [
    "### No of classes\n",
    "num_labels=y.shape[1]"
   ]
  },
  {
   "cell_type": "code",
   "execution_count": 78,
   "id": "acdfc7d1",
   "metadata": {},
   "outputs": [],
   "source": [
    "model=Sequential()\n",
    "###first layer\n",
    "model.add(Dense(100,input_shape=(40,)))\n",
    "model.add(Activation('relu'))\n",
    "model.add(Dropout(0.5))\n",
    "###second layer\n",
    "model.add(Dense(200))\n",
    "model.add(Activation('relu'))\n",
    "model.add(Dropout(0.5))\n",
    "###third layer\n",
    "model.add(Dense(100))\n",
    "model.add(Activation('relu'))\n",
    "model.add(Dropout(0.5))\n",
    "\n",
    "###final layer\n",
    "model.add(Dense(num_labels))\n",
    "model.add(Activation('softmax'))"
   ]
  },
  {
   "cell_type": "code",
   "execution_count": 79,
   "id": "dbfc49bf",
   "metadata": {},
   "outputs": [
    {
     "name": "stdout",
     "output_type": "stream",
     "text": [
      "Model: \"sequential_2\"\n",
      "_________________________________________________________________\n",
      " Layer (type)                Output Shape              Param #   \n",
      "=================================================================\n",
      " dense_8 (Dense)             (None, 100)               4100      \n",
      "                                                                 \n",
      " activation_8 (Activation)   (None, 100)               0         \n",
      "                                                                 \n",
      " dropout_6 (Dropout)         (None, 100)               0         \n",
      "                                                                 \n",
      " dense_9 (Dense)             (None, 200)               20200     \n",
      "                                                                 \n",
      " activation_9 (Activation)   (None, 200)               0         \n",
      "                                                                 \n",
      " dropout_7 (Dropout)         (None, 200)               0         \n",
      "                                                                 \n",
      " dense_10 (Dense)            (None, 100)               20100     \n",
      "                                                                 \n",
      " activation_10 (Activation)  (None, 100)               0         \n",
      "                                                                 \n",
      " dropout_8 (Dropout)         (None, 100)               0         \n",
      "                                                                 \n",
      " dense_11 (Dense)            (None, 10)                1010      \n",
      "                                                                 \n",
      " activation_11 (Activation)  (None, 10)                0         \n",
      "                                                                 \n",
      "=================================================================\n",
      "Total params: 45,410\n",
      "Trainable params: 45,410\n",
      "Non-trainable params: 0\n",
      "_________________________________________________________________\n"
     ]
    }
   ],
   "source": [
    "model.summary()"
   ]
  },
  {
   "cell_type": "code",
   "execution_count": 80,
   "id": "cc94d776",
   "metadata": {},
   "outputs": [],
   "source": [
    "model.compile(loss='categorical_crossentropy',metrics=['accuracy'],optimizer='adam')"
   ]
  },
  {
   "cell_type": "code",
   "execution_count": 83,
   "id": "e6a0bb9c",
   "metadata": {},
   "outputs": [
    {
     "name": "stdout",
     "output_type": "stream",
     "text": [
      "Epoch 1/200\n",
      "33/39 [========================>.....] - ETA: 0s - loss: 0.8236 - accuracy: 0.6288\n",
      "Epoch 1: val_loss improved from inf to 0.57074, saving model to saved_models\\audio_classification.hdf5\n",
      "39/39 [==============================] - 0s 11ms/step - loss: 0.8204 - accuracy: 0.6238 - val_loss: 0.5707 - val_accuracy: 0.7630\n",
      "Epoch 2/200\n",
      "31/39 [======================>.......] - ETA: 0s - loss: 0.8219 - accuracy: 0.6472\n",
      "Epoch 2: val_loss did not improve from 0.57074\n",
      "39/39 [==============================] - 0s 7ms/step - loss: 0.8265 - accuracy: 0.6327 - val_loss: 0.5770 - val_accuracy: 0.7305\n",
      "Epoch 3/200\n",
      "32/39 [=======================>......] - ETA: 0s - loss: 0.8056 - accuracy: 0.6299\n",
      "Epoch 3: val_loss improved from 0.57074 to 0.56069, saving model to saved_models\\audio_classification.hdf5\n",
      "39/39 [==============================] - 0s 10ms/step - loss: 0.8029 - accuracy: 0.6336 - val_loss: 0.5607 - val_accuracy: 0.7792\n",
      "Epoch 4/200\n",
      "31/39 [======================>.......] - ETA: 0s - loss: 0.7532 - accuracy: 0.6694\n",
      "Epoch 4: val_loss improved from 0.56069 to 0.55935, saving model to saved_models\\audio_classification.hdf5\n",
      "39/39 [==============================] - 0s 9ms/step - loss: 0.7530 - accuracy: 0.6588 - val_loss: 0.5593 - val_accuracy: 0.7695\n",
      "Epoch 5/200\n",
      "34/39 [=========================>....] - ETA: 0s - loss: 0.7416 - accuracy: 0.6480\n",
      "Epoch 5: val_loss improved from 0.55935 to 0.52796, saving model to saved_models\\audio_classification.hdf5\n",
      "39/39 [==============================] - 0s 9ms/step - loss: 0.7450 - accuracy: 0.6441 - val_loss: 0.5280 - val_accuracy: 0.8409\n",
      "Epoch 6/200\n",
      "34/39 [=========================>....] - ETA: 0s - loss: 0.7562 - accuracy: 0.6489\n",
      "Epoch 6: val_loss improved from 0.52796 to 0.52566, saving model to saved_models\\audio_classification.hdf5\n",
      "39/39 [==============================] - 0s 9ms/step - loss: 0.7557 - accuracy: 0.6490 - val_loss: 0.5257 - val_accuracy: 0.8149\n",
      "Epoch 7/200\n",
      "33/39 [========================>.....] - ETA: 0s - loss: 0.7836 - accuracy: 0.6354\n",
      "Epoch 7: val_loss improved from 0.52566 to 0.51505, saving model to saved_models\\audio_classification.hdf5\n",
      "39/39 [==============================] - 0s 9ms/step - loss: 0.7686 - accuracy: 0.6474 - val_loss: 0.5150 - val_accuracy: 0.7987\n",
      "Epoch 8/200\n",
      "33/39 [========================>.....] - ETA: 0s - loss: 0.7624 - accuracy: 0.6420\n",
      "Epoch 8: val_loss did not improve from 0.51505\n",
      "39/39 [==============================] - 0s 7ms/step - loss: 0.7501 - accuracy: 0.6564 - val_loss: 0.5437 - val_accuracy: 0.8084\n",
      "Epoch 9/200\n",
      "32/39 [=======================>......] - ETA: 0s - loss: 0.7456 - accuracy: 0.6484\n",
      "Epoch 9: val_loss did not improve from 0.51505\n",
      "39/39 [==============================] - 0s 7ms/step - loss: 0.7436 - accuracy: 0.6490 - val_loss: 0.5436 - val_accuracy: 0.7695\n",
      "Epoch 10/200\n",
      "32/39 [=======================>......] - ETA: 0s - loss: 0.7541 - accuracy: 0.6260\n",
      "Epoch 10: val_loss improved from 0.51505 to 0.50980, saving model to saved_models\\audio_classification.hdf5\n",
      "39/39 [==============================] - 0s 9ms/step - loss: 0.7445 - accuracy: 0.6303 - val_loss: 0.5098 - val_accuracy: 0.8019\n",
      "Epoch 11/200\n",
      "31/39 [======================>.......] - ETA: 0s - loss: 0.7084 - accuracy: 0.6633\n",
      "Epoch 11: val_loss did not improve from 0.50980\n",
      "39/39 [==============================] - 0s 7ms/step - loss: 0.7113 - accuracy: 0.6612 - val_loss: 0.5206 - val_accuracy: 0.8084\n",
      "Epoch 12/200\n",
      "30/39 [======================>.......] - ETA: 0s - loss: 0.7337 - accuracy: 0.6521\n",
      "Epoch 12: val_loss did not improve from 0.50980\n",
      "39/39 [==============================] - 0s 7ms/step - loss: 0.7284 - accuracy: 0.6523 - val_loss: 0.5207 - val_accuracy: 0.7857\n",
      "Epoch 13/200\n",
      "32/39 [=======================>......] - ETA: 0s - loss: 0.7418 - accuracy: 0.6514\n",
      "Epoch 13: val_loss did not improve from 0.50980\n",
      "39/39 [==============================] - 0s 7ms/step - loss: 0.7240 - accuracy: 0.6596 - val_loss: 0.5264 - val_accuracy: 0.8019\n",
      "Epoch 14/200\n",
      "33/39 [========================>.....] - ETA: 0s - loss: 0.7411 - accuracy: 0.6544\n",
      "Epoch 14: val_loss did not improve from 0.50980\n",
      "39/39 [==============================] - 0s 7ms/step - loss: 0.7332 - accuracy: 0.6547 - val_loss: 0.5456 - val_accuracy: 0.7695\n",
      "Epoch 15/200\n",
      "31/39 [======================>.......] - ETA: 0s - loss: 0.6983 - accuracy: 0.6804\n",
      "Epoch 15: val_loss improved from 0.50980 to 0.47081, saving model to saved_models\\audio_classification.hdf5\n",
      "39/39 [==============================] - 0s 10ms/step - loss: 0.7027 - accuracy: 0.6800 - val_loss: 0.4708 - val_accuracy: 0.8247\n",
      "Epoch 16/200\n",
      "33/39 [========================>.....] - ETA: 0s - loss: 0.7509 - accuracy: 0.6496\n",
      "Epoch 16: val_loss did not improve from 0.47081\n",
      "39/39 [==============================] - 0s 7ms/step - loss: 0.7430 - accuracy: 0.6555 - val_loss: 0.4809 - val_accuracy: 0.8344\n",
      "Epoch 17/200\n",
      "36/39 [==========================>...] - ETA: 0s - loss: 0.6903 - accuracy: 0.6710\n",
      "Epoch 17: val_loss did not improve from 0.47081\n",
      "39/39 [==============================] - 0s 8ms/step - loss: 0.6918 - accuracy: 0.6735 - val_loss: 0.4785 - val_accuracy: 0.8214\n",
      "Epoch 18/200\n",
      "33/39 [========================>.....] - ETA: 0s - loss: 0.6864 - accuracy: 0.6742\n",
      "Epoch 18: val_loss improved from 0.47081 to 0.46169, saving model to saved_models\\audio_classification.hdf5\n",
      "39/39 [==============================] - 0s 9ms/step - loss: 0.6958 - accuracy: 0.6767 - val_loss: 0.4617 - val_accuracy: 0.8247\n",
      "Epoch 19/200\n",
      "31/39 [======================>.......] - ETA: 0s - loss: 0.6840 - accuracy: 0.6835\n",
      "Epoch 19: val_loss improved from 0.46169 to 0.45087, saving model to saved_models\\audio_classification.hdf5\n",
      "39/39 [==============================] - 0s 9ms/step - loss: 0.6894 - accuracy: 0.6881 - val_loss: 0.4509 - val_accuracy: 0.8279\n",
      "Epoch 20/200\n",
      "32/39 [=======================>......] - ETA: 0s - loss: 0.6660 - accuracy: 0.6904\n",
      "Epoch 20: val_loss did not improve from 0.45087\n",
      "39/39 [==============================] - 0s 7ms/step - loss: 0.6745 - accuracy: 0.6840 - val_loss: 0.5258 - val_accuracy: 0.7532\n",
      "Epoch 21/200\n",
      "31/39 [======================>.......] - ETA: 0s - loss: 0.6784 - accuracy: 0.6704\n",
      "Epoch 21: val_loss did not improve from 0.45087\n",
      "39/39 [==============================] - 0s 7ms/step - loss: 0.6840 - accuracy: 0.6710 - val_loss: 0.4600 - val_accuracy: 0.8344\n",
      "Epoch 22/200\n",
      "31/39 [======================>.......] - ETA: 0s - loss: 0.6874 - accuracy: 0.6835\n",
      "Epoch 22: val_loss did not improve from 0.45087\n",
      "39/39 [==============================] - 0s 7ms/step - loss: 0.6839 - accuracy: 0.6751 - val_loss: 0.4624 - val_accuracy: 0.8214\n",
      "Epoch 23/200\n",
      "30/39 [======================>.......] - ETA: 0s - loss: 0.7151 - accuracy: 0.6521\n",
      "Epoch 23: val_loss did not improve from 0.45087\n",
      "39/39 [==============================] - 0s 7ms/step - loss: 0.7123 - accuracy: 0.6572 - val_loss: 0.4730 - val_accuracy: 0.8052\n",
      "Epoch 24/200\n",
      "30/39 [======================>.......] - ETA: 0s - loss: 0.6719 - accuracy: 0.6948\n",
      "Epoch 24: val_loss did not improve from 0.45087\n",
      "39/39 [==============================] - 0s 7ms/step - loss: 0.6537 - accuracy: 0.7020 - val_loss: 0.4521 - val_accuracy: 0.8019\n",
      "Epoch 25/200\n",
      "31/39 [======================>.......] - ETA: 0s - loss: 0.6647 - accuracy: 0.6925\n",
      "Epoch 25: val_loss improved from 0.45087 to 0.44615, saving model to saved_models\\audio_classification.hdf5\n",
      "39/39 [==============================] - 0s 9ms/step - loss: 0.6688 - accuracy: 0.6914 - val_loss: 0.4462 - val_accuracy: 0.8344\n",
      "Epoch 26/200\n",
      "33/39 [========================>.....] - ETA: 0s - loss: 0.7002 - accuracy: 0.6695\n",
      "Epoch 26: val_loss did not improve from 0.44615\n",
      "39/39 [==============================] - 0s 7ms/step - loss: 0.7012 - accuracy: 0.6686 - val_loss: 0.4617 - val_accuracy: 0.8117\n",
      "Epoch 27/200\n",
      "32/39 [=======================>......] - ETA: 0s - loss: 0.7418 - accuracy: 0.6797\n",
      "Epoch 27: val_loss improved from 0.44615 to 0.44080, saving model to saved_models\\audio_classification.hdf5\n",
      "39/39 [==============================] - 0s 10ms/step - loss: 0.7407 - accuracy: 0.6800 - val_loss: 0.4408 - val_accuracy: 0.8766\n",
      "Epoch 28/200\n",
      "31/39 [======================>.......] - ETA: 0s - loss: 0.6863 - accuracy: 0.7006\n",
      "Epoch 28: val_loss did not improve from 0.44080\n"
     ]
    },
    {
     "name": "stdout",
     "output_type": "stream",
     "text": [
      "39/39 [==============================] - 0s 7ms/step - loss: 0.7012 - accuracy: 0.6971 - val_loss: 0.4653 - val_accuracy: 0.8214\n",
      "Epoch 29/200\n",
      "31/39 [======================>.......] - ETA: 0s - loss: 0.7466 - accuracy: 0.6552\n",
      "Epoch 29: val_loss did not improve from 0.44080\n",
      "39/39 [==============================] - 0s 7ms/step - loss: 0.7225 - accuracy: 0.6669 - val_loss: 0.4503 - val_accuracy: 0.8117\n",
      "Epoch 30/200\n",
      "31/39 [======================>.......] - ETA: 0s - loss: 0.6660 - accuracy: 0.6784\n",
      "Epoch 30: val_loss did not improve from 0.44080\n",
      "39/39 [==============================] - 0s 7ms/step - loss: 0.6866 - accuracy: 0.6710 - val_loss: 0.4420 - val_accuracy: 0.7955\n",
      "Epoch 31/200\n",
      "33/39 [========================>.....] - ETA: 0s - loss: 0.6785 - accuracy: 0.7083\n",
      "Epoch 31: val_loss did not improve from 0.44080\n",
      "39/39 [==============================] - 0s 7ms/step - loss: 0.6687 - accuracy: 0.7093 - val_loss: 0.4702 - val_accuracy: 0.7825\n",
      "Epoch 32/200\n",
      "38/39 [============================>.] - ETA: 0s - loss: 0.6566 - accuracy: 0.7031\n",
      "Epoch 32: val_loss did not improve from 0.44080\n",
      "39/39 [==============================] - 0s 7ms/step - loss: 0.6553 - accuracy: 0.7044 - val_loss: 0.4587 - val_accuracy: 0.8247\n",
      "Epoch 33/200\n",
      "32/39 [=======================>......] - ETA: 0s - loss: 0.6691 - accuracy: 0.7256\n",
      "Epoch 33: val_loss improved from 0.44080 to 0.40121, saving model to saved_models\\audio_classification.hdf5\n",
      "39/39 [==============================] - 0s 9ms/step - loss: 0.6878 - accuracy: 0.7174 - val_loss: 0.4012 - val_accuracy: 0.8442\n",
      "Epoch 34/200\n",
      "33/39 [========================>.....] - ETA: 0s - loss: 0.6792 - accuracy: 0.7008\n",
      "Epoch 34: val_loss did not improve from 0.40121\n",
      "39/39 [==============================] - 0s 7ms/step - loss: 0.6895 - accuracy: 0.6922 - val_loss: 0.4210 - val_accuracy: 0.8247\n",
      "Epoch 35/200\n",
      "36/39 [==========================>...] - ETA: 0s - loss: 0.6813 - accuracy: 0.7127\n",
      "Epoch 35: val_loss did not improve from 0.40121\n",
      "39/39 [==============================] - 0s 7ms/step - loss: 0.6902 - accuracy: 0.7052 - val_loss: 0.4288 - val_accuracy: 0.8409\n",
      "Epoch 36/200\n",
      "33/39 [========================>.....] - ETA: 0s - loss: 0.6510 - accuracy: 0.7064\n",
      "Epoch 36: val_loss did not improve from 0.40121\n",
      "39/39 [==============================] - 0s 7ms/step - loss: 0.6574 - accuracy: 0.7020 - val_loss: 0.4560 - val_accuracy: 0.8182\n",
      "Epoch 37/200\n",
      "33/39 [========================>.....] - ETA: 0s - loss: 0.6726 - accuracy: 0.6998\n",
      "Epoch 37: val_loss did not improve from 0.40121\n",
      "39/39 [==============================] - 0s 7ms/step - loss: 0.6743 - accuracy: 0.6995 - val_loss: 0.4618 - val_accuracy: 0.7890\n",
      "Epoch 38/200\n",
      "38/39 [============================>.] - ETA: 0s - loss: 0.6876 - accuracy: 0.6900\n",
      "Epoch 38: val_loss did not improve from 0.40121\n",
      "39/39 [==============================] - 0s 6ms/step - loss: 0.6858 - accuracy: 0.6914 - val_loss: 0.4329 - val_accuracy: 0.8019\n",
      "Epoch 39/200\n",
      "33/39 [========================>.....] - ETA: 0s - loss: 0.6556 - accuracy: 0.7188\n",
      "Epoch 39: val_loss did not improve from 0.40121\n",
      "39/39 [==============================] - 0s 7ms/step - loss: 0.6641 - accuracy: 0.7166 - val_loss: 0.4093 - val_accuracy: 0.8474\n",
      "Epoch 40/200\n",
      "35/39 [=========================>....] - ETA: 0s - loss: 0.6844 - accuracy: 0.6911\n",
      "Epoch 40: val_loss did not improve from 0.40121\n",
      "39/39 [==============================] - 0s 7ms/step - loss: 0.6981 - accuracy: 0.6792 - val_loss: 0.4321 - val_accuracy: 0.8052\n",
      "Epoch 41/200\n",
      "37/39 [===========================>..] - ETA: 0s - loss: 0.6458 - accuracy: 0.6951\n",
      "Epoch 41: val_loss did not improve from 0.40121\n",
      "39/39 [==============================] - 0s 6ms/step - loss: 0.6450 - accuracy: 0.6963 - val_loss: 0.4080 - val_accuracy: 0.8377\n",
      "Epoch 42/200\n",
      "37/39 [===========================>..] - ETA: 0s - loss: 0.6326 - accuracy: 0.7145\n",
      "Epoch 42: val_loss did not improve from 0.40121\n",
      "39/39 [==============================] - 0s 6ms/step - loss: 0.6320 - accuracy: 0.7158 - val_loss: 0.4374 - val_accuracy: 0.8084\n",
      "Epoch 43/200\n",
      "34/39 [=========================>....] - ETA: 0s - loss: 0.6471 - accuracy: 0.7105\n",
      "Epoch 43: val_loss did not improve from 0.40121\n",
      "39/39 [==============================] - 0s 6ms/step - loss: 0.6335 - accuracy: 0.7142 - val_loss: 0.4125 - val_accuracy: 0.8442\n",
      "Epoch 44/200\n",
      "34/39 [=========================>....] - ETA: 0s - loss: 0.6624 - accuracy: 0.7077\n",
      "Epoch 44: val_loss did not improve from 0.40121\n",
      "39/39 [==============================] - 0s 7ms/step - loss: 0.6551 - accuracy: 0.7093 - val_loss: 0.4028 - val_accuracy: 0.8377\n",
      "Epoch 45/200\n",
      "36/39 [==========================>...] - ETA: 0s - loss: 0.6600 - accuracy: 0.7118\n",
      "Epoch 45: val_loss did not improve from 0.40121\n",
      "39/39 [==============================] - 0s 7ms/step - loss: 0.6497 - accuracy: 0.7158 - val_loss: 0.4085 - val_accuracy: 0.8571\n",
      "Epoch 46/200\n",
      "34/39 [=========================>....] - ETA: 0s - loss: 0.6218 - accuracy: 0.7132\n",
      "Epoch 46: val_loss improved from 0.40121 to 0.39729, saving model to saved_models\\audio_classification.hdf5\n",
      "39/39 [==============================] - 0s 9ms/step - loss: 0.6071 - accuracy: 0.7207 - val_loss: 0.3973 - val_accuracy: 0.8377\n",
      "Epoch 47/200\n",
      "35/39 [=========================>....] - ETA: 0s - loss: 0.6334 - accuracy: 0.7152\n",
      "Epoch 47: val_loss improved from 0.39729 to 0.39620, saving model to saved_models\\audio_classification.hdf5\n",
      "39/39 [==============================] - 0s 9ms/step - loss: 0.6441 - accuracy: 0.7085 - val_loss: 0.3962 - val_accuracy: 0.8571\n",
      "Epoch 48/200\n",
      "32/39 [=======================>......] - ETA: 0s - loss: 0.6298 - accuracy: 0.7080\n",
      "Epoch 48: val_loss did not improve from 0.39620\n",
      "39/39 [==============================] - 0s 7ms/step - loss: 0.6346 - accuracy: 0.7036 - val_loss: 0.4123 - val_accuracy: 0.8474\n",
      "Epoch 49/200\n",
      "38/39 [============================>.] - ETA: 0s - loss: 0.6326 - accuracy: 0.7229\n",
      "Epoch 49: val_loss improved from 0.39620 to 0.39429, saving model to saved_models\\audio_classification.hdf5\n",
      "39/39 [==============================] - 0s 10ms/step - loss: 0.6312 - accuracy: 0.7231 - val_loss: 0.3943 - val_accuracy: 0.8442\n",
      "Epoch 50/200\n",
      "33/39 [========================>.....] - ETA: 0s - loss: 0.5988 - accuracy: 0.7292\n",
      "Epoch 50: val_loss did not improve from 0.39429\n",
      "39/39 [==============================] - 0s 7ms/step - loss: 0.5894 - accuracy: 0.7313 - val_loss: 0.4054 - val_accuracy: 0.8149\n",
      "Epoch 51/200\n",
      "33/39 [========================>.....] - ETA: 0s - loss: 0.6333 - accuracy: 0.7121\n",
      "Epoch 51: val_loss did not improve from 0.39429\n",
      "39/39 [==============================] - 0s 7ms/step - loss: 0.6310 - accuracy: 0.7166 - val_loss: 0.4186 - val_accuracy: 0.8019\n",
      "Epoch 52/200\n",
      "34/39 [=========================>....] - ETA: 0s - loss: 0.6584 - accuracy: 0.7114\n",
      "Epoch 52: val_loss improved from 0.39429 to 0.38404, saving model to saved_models\\audio_classification.hdf5\n",
      "39/39 [==============================] - 0s 9ms/step - loss: 0.6406 - accuracy: 0.7223 - val_loss: 0.3840 - val_accuracy: 0.8442\n",
      "Epoch 53/200\n",
      "34/39 [=========================>....] - ETA: 0s - loss: 0.5691 - accuracy: 0.7381\n",
      "Epoch 53: val_loss did not improve from 0.38404\n",
      "39/39 [==============================] - 0s 7ms/step - loss: 0.5867 - accuracy: 0.7288 - val_loss: 0.4027 - val_accuracy: 0.8312\n",
      "Epoch 54/200\n",
      "33/39 [========================>.....] - ETA: 0s - loss: 0.6107 - accuracy: 0.7254\n",
      "Epoch 54: val_loss improved from 0.38404 to 0.38182, saving model to saved_models\\audio_classification.hdf5\n",
      "39/39 [==============================] - 0s 9ms/step - loss: 0.6206 - accuracy: 0.7182 - val_loss: 0.3818 - val_accuracy: 0.8377\n",
      "Epoch 55/200\n",
      "37/39 [===========================>..] - ETA: 0s - loss: 0.6031 - accuracy: 0.7196\n",
      "Epoch 55: val_loss did not improve from 0.38182\n",
      "39/39 [==============================] - 0s 7ms/step - loss: 0.6002 - accuracy: 0.7199 - val_loss: 0.3879 - val_accuracy: 0.8279\n",
      "Epoch 56/200\n",
      "37/39 [===========================>..] - ETA: 0s - loss: 0.5835 - accuracy: 0.7432\n",
      "Epoch 56: val_loss improved from 0.38182 to 0.36991, saving model to saved_models\\audio_classification.hdf5\n",
      "39/39 [==============================] - 0s 9ms/step - loss: 0.5818 - accuracy: 0.7459 - val_loss: 0.3699 - val_accuracy: 0.8604\n"
     ]
    },
    {
     "name": "stdout",
     "output_type": "stream",
     "text": [
      "Epoch 57/200\n",
      "33/39 [========================>.....] - ETA: 0s - loss: 0.6301 - accuracy: 0.7083\n",
      "Epoch 57: val_loss did not improve from 0.36991\n",
      "39/39 [==============================] - 0s 7ms/step - loss: 0.6342 - accuracy: 0.7150 - val_loss: 0.3953 - val_accuracy: 0.8539\n",
      "Epoch 58/200\n",
      "35/39 [=========================>....] - ETA: 0s - loss: 0.6434 - accuracy: 0.7250\n",
      "Epoch 58: val_loss did not improve from 0.36991\n",
      "39/39 [==============================] - 0s 6ms/step - loss: 0.6334 - accuracy: 0.7239 - val_loss: 0.3838 - val_accuracy: 0.8247\n",
      "Epoch 59/200\n",
      "34/39 [=========================>....] - ETA: 0s - loss: 0.6115 - accuracy: 0.7353\n",
      "Epoch 59: val_loss did not improve from 0.36991\n",
      "39/39 [==============================] - 0s 7ms/step - loss: 0.6144 - accuracy: 0.7370 - val_loss: 0.3737 - val_accuracy: 0.8539\n",
      "Epoch 60/200\n",
      "34/39 [=========================>....] - ETA: 0s - loss: 0.5953 - accuracy: 0.7335\n",
      "Epoch 60: val_loss did not improve from 0.36991\n",
      "39/39 [==============================] - 0s 7ms/step - loss: 0.5939 - accuracy: 0.7305 - val_loss: 0.3904 - val_accuracy: 0.8344\n",
      "Epoch 61/200\n",
      "35/39 [=========================>....] - ETA: 0s - loss: 0.5863 - accuracy: 0.7214\n",
      "Epoch 61: val_loss did not improve from 0.36991\n",
      "39/39 [==============================] - 0s 6ms/step - loss: 0.5873 - accuracy: 0.7166 - val_loss: 0.3804 - val_accuracy: 0.8669\n",
      "Epoch 62/200\n",
      "35/39 [=========================>....] - ETA: 0s - loss: 0.6024 - accuracy: 0.7500\n",
      "Epoch 62: val_loss did not improve from 0.36991\n",
      "39/39 [==============================] - 0s 7ms/step - loss: 0.5999 - accuracy: 0.7500 - val_loss: 0.4096 - val_accuracy: 0.8117\n",
      "Epoch 63/200\n",
      "35/39 [=========================>....] - ETA: 0s - loss: 0.5538 - accuracy: 0.7625\n",
      "Epoch 63: val_loss did not improve from 0.36991\n",
      "39/39 [==============================] - 0s 7ms/step - loss: 0.5576 - accuracy: 0.7557 - val_loss: 0.3712 - val_accuracy: 0.8701\n",
      "Epoch 64/200\n",
      "34/39 [=========================>....] - ETA: 0s - loss: 0.5646 - accuracy: 0.7638\n",
      "Epoch 64: val_loss did not improve from 0.36991\n",
      "39/39 [==============================] - 0s 7ms/step - loss: 0.5566 - accuracy: 0.7663 - val_loss: 0.3820 - val_accuracy: 0.8182\n",
      "Epoch 65/200\n",
      "34/39 [=========================>....] - ETA: 0s - loss: 0.5975 - accuracy: 0.7509\n",
      "Epoch 65: val_loss did not improve from 0.36991\n",
      "39/39 [==============================] - 0s 7ms/step - loss: 0.6035 - accuracy: 0.7427 - val_loss: 0.4235 - val_accuracy: 0.7532\n",
      "Epoch 66/200\n",
      "34/39 [=========================>....] - ETA: 0s - loss: 0.6025 - accuracy: 0.7371\n",
      "Epoch 66: val_loss improved from 0.36991 to 0.34456, saving model to saved_models\\audio_classification.hdf5\n",
      "39/39 [==============================] - 0s 9ms/step - loss: 0.6016 - accuracy: 0.7353 - val_loss: 0.3446 - val_accuracy: 0.8377\n",
      "Epoch 67/200\n",
      "34/39 [=========================>....] - ETA: 0s - loss: 0.5820 - accuracy: 0.7381\n",
      "Epoch 67: val_loss did not improve from 0.34456\n",
      "39/39 [==============================] - 0s 7ms/step - loss: 0.5701 - accuracy: 0.7427 - val_loss: 0.3858 - val_accuracy: 0.8117\n",
      "Epoch 68/200\n",
      "35/39 [=========================>....] - ETA: 0s - loss: 0.5730 - accuracy: 0.7384\n",
      "Epoch 68: val_loss did not improve from 0.34456\n",
      "39/39 [==============================] - 0s 7ms/step - loss: 0.5776 - accuracy: 0.7370 - val_loss: 0.3835 - val_accuracy: 0.8182\n",
      "Epoch 69/200\n",
      "33/39 [========================>.....] - ETA: 0s - loss: 0.6064 - accuracy: 0.7462\n",
      "Epoch 69: val_loss did not improve from 0.34456\n",
      "39/39 [==============================] - 0s 7ms/step - loss: 0.6112 - accuracy: 0.7402 - val_loss: 0.4066 - val_accuracy: 0.8052\n",
      "Epoch 70/200\n",
      "34/39 [=========================>....] - ETA: 0s - loss: 0.5688 - accuracy: 0.7564\n",
      "Epoch 70: val_loss did not improve from 0.34456\n",
      "39/39 [==============================] - 0s 7ms/step - loss: 0.5593 - accuracy: 0.7598 - val_loss: 0.4151 - val_accuracy: 0.8052\n",
      "Epoch 71/200\n",
      "35/39 [=========================>....] - ETA: 0s - loss: 0.5818 - accuracy: 0.7536\n",
      "Epoch 71: val_loss did not improve from 0.34456\n",
      "39/39 [==============================] - 0s 7ms/step - loss: 0.5709 - accuracy: 0.7590 - val_loss: 0.3625 - val_accuracy: 0.8506\n",
      "Epoch 72/200\n",
      "34/39 [=========================>....] - ETA: 0s - loss: 0.5613 - accuracy: 0.7399\n",
      "Epoch 72: val_loss did not improve from 0.34456\n",
      "39/39 [==============================] - 0s 7ms/step - loss: 0.5614 - accuracy: 0.7435 - val_loss: 0.3597 - val_accuracy: 0.8247\n",
      "Epoch 73/200\n",
      "33/39 [========================>.....] - ETA: 0s - loss: 0.5805 - accuracy: 0.7491\n",
      "Epoch 73: val_loss did not improve from 0.34456\n",
      "39/39 [==============================] - 0s 7ms/step - loss: 0.5772 - accuracy: 0.7492 - val_loss: 0.3484 - val_accuracy: 0.8474\n",
      "Epoch 74/200\n",
      "32/39 [=======================>......] - ETA: 0s - loss: 0.5867 - accuracy: 0.7500\n",
      "Epoch 74: val_loss improved from 0.34456 to 0.31812, saving model to saved_models\\audio_classification.hdf5\n",
      "39/39 [==============================] - 0s 9ms/step - loss: 0.5967 - accuracy: 0.7484 - val_loss: 0.3181 - val_accuracy: 0.8734\n",
      "Epoch 75/200\n",
      "34/39 [=========================>....] - ETA: 0s - loss: 0.5686 - accuracy: 0.7509\n",
      "Epoch 75: val_loss did not improve from 0.31812\n",
      "39/39 [==============================] - 0s 7ms/step - loss: 0.5622 - accuracy: 0.7541 - val_loss: 0.3565 - val_accuracy: 0.8506\n",
      "Epoch 76/200\n",
      "36/39 [==========================>...] - ETA: 0s - loss: 0.5337 - accuracy: 0.7674\n",
      "Epoch 76: val_loss did not improve from 0.31812\n",
      "39/39 [==============================] - 0s 7ms/step - loss: 0.5256 - accuracy: 0.7712 - val_loss: 0.3258 - val_accuracy: 0.8636\n",
      "Epoch 77/200\n",
      "35/39 [=========================>....] - ETA: 0s - loss: 0.5409 - accuracy: 0.7491\n",
      "Epoch 77: val_loss did not improve from 0.31812\n",
      "39/39 [==============================] - 0s 7ms/step - loss: 0.5366 - accuracy: 0.7508 - val_loss: 0.3518 - val_accuracy: 0.8377\n",
      "Epoch 78/200\n",
      "36/39 [==========================>...] - ETA: 0s - loss: 0.5266 - accuracy: 0.7717\n",
      "Epoch 78: val_loss did not improve from 0.31812\n",
      "39/39 [==============================] - 0s 7ms/step - loss: 0.5377 - accuracy: 0.7728 - val_loss: 0.3661 - val_accuracy: 0.8571\n",
      "Epoch 79/200\n",
      "33/39 [========================>.....] - ETA: 0s - loss: 0.6025 - accuracy: 0.7358\n",
      "Epoch 79: val_loss did not improve from 0.31812\n",
      "39/39 [==============================] - 0s 7ms/step - loss: 0.6086 - accuracy: 0.7345 - val_loss: 0.3691 - val_accuracy: 0.8701\n",
      "Epoch 80/200\n",
      "30/39 [======================>.......] - ETA: 0s - loss: 0.5879 - accuracy: 0.7427\n",
      "Epoch 80: val_loss did not improve from 0.31812\n",
      "39/39 [==============================] - 0s 7ms/step - loss: 0.5728 - accuracy: 0.7524 - val_loss: 0.3662 - val_accuracy: 0.8247\n",
      "Epoch 81/200\n",
      "34/39 [=========================>....] - ETA: 0s - loss: 0.5506 - accuracy: 0.7555\n",
      "Epoch 81: val_loss did not improve from 0.31812\n",
      "39/39 [==============================] - 0s 7ms/step - loss: 0.5445 - accuracy: 0.7573 - val_loss: 0.3850 - val_accuracy: 0.8312\n",
      "Epoch 82/200\n",
      "33/39 [========================>.....] - ETA: 0s - loss: 0.6083 - accuracy: 0.7434\n",
      "Epoch 82: val_loss did not improve from 0.31812\n",
      "39/39 [==============================] - 0s 7ms/step - loss: 0.6095 - accuracy: 0.7386 - val_loss: 0.3673 - val_accuracy: 0.8474\n",
      "Epoch 83/200\n",
      "33/39 [========================>.....] - ETA: 0s - loss: 0.5756 - accuracy: 0.7519\n",
      "Epoch 83: val_loss did not improve from 0.31812\n",
      "39/39 [==============================] - 0s 7ms/step - loss: 0.5899 - accuracy: 0.7443 - val_loss: 0.3705 - val_accuracy: 0.8409\n",
      "Epoch 84/200\n",
      "33/39 [========================>.....] - ETA: 0s - loss: 0.5160 - accuracy: 0.7765\n",
      "Epoch 84: val_loss did not improve from 0.31812\n",
      "39/39 [==============================] - 0s 7ms/step - loss: 0.5264 - accuracy: 0.7704 - val_loss: 0.3407 - val_accuracy: 0.8604\n",
      "Epoch 85/200\n",
      "32/39 [=======================>......] - ETA: 0s - loss: 0.5478 - accuracy: 0.7539\n",
      "Epoch 85: val_loss did not improve from 0.31812\n",
      "39/39 [==============================] - 0s 7ms/step - loss: 0.5500 - accuracy: 0.7508 - val_loss: 0.3546 - val_accuracy: 0.8571\n",
      "Epoch 86/200\n",
      "33/39 [========================>.....] - ETA: 0s - loss: 0.5319 - accuracy: 0.7585\n",
      "Epoch 86: val_loss did not improve from 0.31812\n",
      "39/39 [==============================] - 0s 7ms/step - loss: 0.5282 - accuracy: 0.7614 - val_loss: 0.3563 - val_accuracy: 0.8474\n"
     ]
    },
    {
     "name": "stdout",
     "output_type": "stream",
     "text": [
      "Epoch 87/200\n",
      "30/39 [======================>.......] - ETA: 0s - loss: 0.5356 - accuracy: 0.7437\n",
      "Epoch 87: val_loss did not improve from 0.31812\n",
      "39/39 [==============================] - 0s 7ms/step - loss: 0.5526 - accuracy: 0.7443 - val_loss: 0.3415 - val_accuracy: 0.8571\n",
      "Epoch 88/200\n",
      "33/39 [========================>.....] - ETA: 0s - loss: 0.5610 - accuracy: 0.7595\n",
      "Epoch 88: val_loss did not improve from 0.31812\n",
      "39/39 [==============================] - 0s 7ms/step - loss: 0.5576 - accuracy: 0.7606 - val_loss: 0.3324 - val_accuracy: 0.8994\n",
      "Epoch 89/200\n",
      "34/39 [=========================>....] - ETA: 0s - loss: 0.5384 - accuracy: 0.7601\n",
      "Epoch 89: val_loss did not improve from 0.31812\n",
      "39/39 [==============================] - 0s 7ms/step - loss: 0.5266 - accuracy: 0.7655 - val_loss: 0.3564 - val_accuracy: 0.8312\n",
      "Epoch 90/200\n",
      "31/39 [======================>.......] - ETA: 0s - loss: 0.5351 - accuracy: 0.7470\n",
      "Epoch 90: val_loss improved from 0.31812 to 0.30747, saving model to saved_models\\audio_classification.hdf5\n",
      "39/39 [==============================] - 0s 10ms/step - loss: 0.5291 - accuracy: 0.7557 - val_loss: 0.3075 - val_accuracy: 0.8896\n",
      "Epoch 91/200\n",
      "33/39 [========================>.....] - ETA: 0s - loss: 0.5079 - accuracy: 0.7803\n",
      "Epoch 91: val_loss did not improve from 0.30747\n",
      "39/39 [==============================] - 0s 7ms/step - loss: 0.5007 - accuracy: 0.7818 - val_loss: 0.3444 - val_accuracy: 0.8377\n",
      "Epoch 92/200\n",
      "34/39 [=========================>....] - ETA: 0s - loss: 0.5030 - accuracy: 0.7950\n",
      "Epoch 92: val_loss did not improve from 0.30747\n",
      "39/39 [==============================] - 0s 7ms/step - loss: 0.5009 - accuracy: 0.7915 - val_loss: 0.3527 - val_accuracy: 0.8019\n",
      "Epoch 93/200\n",
      "36/39 [==========================>...] - ETA: 0s - loss: 0.5069 - accuracy: 0.7769\n",
      "Epoch 93: val_loss did not improve from 0.30747\n",
      "39/39 [==============================] - 0s 7ms/step - loss: 0.5136 - accuracy: 0.7720 - val_loss: 0.3126 - val_accuracy: 0.8961\n",
      "Epoch 94/200\n",
      "35/39 [=========================>....] - ETA: 0s - loss: 0.5078 - accuracy: 0.7679\n",
      "Epoch 94: val_loss did not improve from 0.30747\n",
      "39/39 [==============================] - 0s 7ms/step - loss: 0.5077 - accuracy: 0.7679 - val_loss: 0.3371 - val_accuracy: 0.8442\n",
      "Epoch 95/200\n",
      "33/39 [========================>.....] - ETA: 0s - loss: 0.5496 - accuracy: 0.7614\n",
      "Epoch 95: val_loss did not improve from 0.30747\n",
      "39/39 [==============================] - 0s 7ms/step - loss: 0.5446 - accuracy: 0.7598 - val_loss: 0.3654 - val_accuracy: 0.8377\n",
      "Epoch 96/200\n",
      "34/39 [=========================>....] - ETA: 0s - loss: 0.5205 - accuracy: 0.7794\n",
      "Epoch 96: val_loss did not improve from 0.30747\n",
      "39/39 [==============================] - 0s 7ms/step - loss: 0.5228 - accuracy: 0.7777 - val_loss: 0.3324 - val_accuracy: 0.8539\n",
      "Epoch 97/200\n",
      "36/39 [==========================>...] - ETA: 0s - loss: 0.5445 - accuracy: 0.7682\n",
      "Epoch 97: val_loss did not improve from 0.30747\n",
      "39/39 [==============================] - 0s 6ms/step - loss: 0.5410 - accuracy: 0.7712 - val_loss: 0.3348 - val_accuracy: 0.8669\n",
      "Epoch 98/200\n",
      "36/39 [==========================>...] - ETA: 0s - loss: 0.5422 - accuracy: 0.7552\n",
      "Epoch 98: val_loss did not improve from 0.30747\n",
      "39/39 [==============================] - 0s 7ms/step - loss: 0.5461 - accuracy: 0.7508 - val_loss: 0.4350 - val_accuracy: 0.8149\n",
      "Epoch 99/200\n",
      "36/39 [==========================>...] - ETA: 0s - loss: 0.5373 - accuracy: 0.7578\n",
      "Epoch 99: val_loss did not improve from 0.30747\n",
      "39/39 [==============================] - 0s 6ms/step - loss: 0.5311 - accuracy: 0.7598 - val_loss: 0.3330 - val_accuracy: 0.8442\n",
      "Epoch 100/200\n",
      "36/39 [==========================>...] - ETA: 0s - loss: 0.5085 - accuracy: 0.7786\n",
      "Epoch 100: val_loss improved from 0.30747 to 0.30219, saving model to saved_models\\audio_classification.hdf5\n",
      "39/39 [==============================] - 0s 10ms/step - loss: 0.5082 - accuracy: 0.7818 - val_loss: 0.3022 - val_accuracy: 0.9123\n",
      "Epoch 101/200\n",
      "33/39 [========================>.....] - ETA: 0s - loss: 0.5184 - accuracy: 0.7727\n",
      "Epoch 101: val_loss did not improve from 0.30219\n",
      "39/39 [==============================] - 0s 7ms/step - loss: 0.5176 - accuracy: 0.7744 - val_loss: 0.3268 - val_accuracy: 0.8539\n",
      "Epoch 102/200\n",
      "35/39 [=========================>....] - ETA: 0s - loss: 0.5608 - accuracy: 0.7696\n",
      "Epoch 102: val_loss did not improve from 0.30219\n",
      "39/39 [==============================] - 0s 7ms/step - loss: 0.5574 - accuracy: 0.7687 - val_loss: 0.3457 - val_accuracy: 0.8344\n",
      "Epoch 103/200\n",
      "31/39 [======================>.......] - ETA: 0s - loss: 0.5287 - accuracy: 0.7863\n",
      "Epoch 103: val_loss did not improve from 0.30219\n",
      "39/39 [==============================] - 0s 7ms/step - loss: 0.5407 - accuracy: 0.7793 - val_loss: 0.3167 - val_accuracy: 0.8799\n",
      "Epoch 104/200\n",
      "35/39 [=========================>....] - ETA: 0s - loss: 0.5757 - accuracy: 0.7518\n",
      "Epoch 104: val_loss did not improve from 0.30219\n",
      "39/39 [==============================] - 0s 7ms/step - loss: 0.5708 - accuracy: 0.7533 - val_loss: 0.3902 - val_accuracy: 0.8182\n",
      "Epoch 105/200\n",
      "32/39 [=======================>......] - ETA: 0s - loss: 0.5436 - accuracy: 0.7588\n",
      "Epoch 105: val_loss did not improve from 0.30219\n",
      "39/39 [==============================] - 0s 7ms/step - loss: 0.5432 - accuracy: 0.7557 - val_loss: 0.3551 - val_accuracy: 0.8506\n",
      "Epoch 106/200\n",
      "35/39 [=========================>....] - ETA: 0s - loss: 0.5371 - accuracy: 0.7679\n",
      "Epoch 106: val_loss did not improve from 0.30219\n",
      "39/39 [==============================] - 0s 7ms/step - loss: 0.5348 - accuracy: 0.7679 - val_loss: 0.3291 - val_accuracy: 0.8734\n",
      "Epoch 107/200\n",
      "32/39 [=======================>......] - ETA: 0s - loss: 0.5198 - accuracy: 0.7734\n",
      "Epoch 107: val_loss did not improve from 0.30219\n",
      "39/39 [==============================] - 0s 7ms/step - loss: 0.5184 - accuracy: 0.7728 - val_loss: 0.3219 - val_accuracy: 0.8831\n",
      "Epoch 108/200\n",
      "34/39 [=========================>....] - ETA: 0s - loss: 0.5382 - accuracy: 0.7638\n",
      "Epoch 108: val_loss did not improve from 0.30219\n",
      "39/39 [==============================] - 0s 7ms/step - loss: 0.5448 - accuracy: 0.7557 - val_loss: 0.3316 - val_accuracy: 0.8604\n",
      "Epoch 109/200\n",
      "36/39 [==========================>...] - ETA: 0s - loss: 0.5104 - accuracy: 0.7630\n",
      "Epoch 109: val_loss did not improve from 0.30219\n",
      "39/39 [==============================] - 0s 6ms/step - loss: 0.5098 - accuracy: 0.7606 - val_loss: 0.3257 - val_accuracy: 0.8929\n",
      "Epoch 110/200\n",
      "35/39 [=========================>....] - ETA: 0s - loss: 0.4950 - accuracy: 0.7759\n",
      "Epoch 110: val_loss did not improve from 0.30219\n",
      "39/39 [==============================] - 0s 7ms/step - loss: 0.4826 - accuracy: 0.7809 - val_loss: 0.3283 - val_accuracy: 0.8734\n",
      "Epoch 111/200\n",
      "36/39 [==========================>...] - ETA: 0s - loss: 0.4910 - accuracy: 0.7778\n",
      "Epoch 111: val_loss did not improve from 0.30219\n",
      "39/39 [==============================] - 0s 6ms/step - loss: 0.4850 - accuracy: 0.7818 - val_loss: 0.3082 - val_accuracy: 0.8636\n",
      "Epoch 112/200\n",
      "35/39 [=========================>....] - ETA: 0s - loss: 0.5392 - accuracy: 0.7679\n",
      "Epoch 112: val_loss did not improve from 0.30219\n",
      "39/39 [==============================] - 0s 6ms/step - loss: 0.5245 - accuracy: 0.7720 - val_loss: 0.3176 - val_accuracy: 0.8701\n",
      "Epoch 113/200\n",
      "37/39 [===========================>..] - ETA: 0s - loss: 0.5292 - accuracy: 0.7753\n",
      "Epoch 113: val_loss did not improve from 0.30219\n",
      "39/39 [==============================] - 0s 7ms/step - loss: 0.5337 - accuracy: 0.7761 - val_loss: 0.3272 - val_accuracy: 0.8669\n",
      "Epoch 114/200\n",
      "34/39 [=========================>....] - ETA: 0s - loss: 0.4908 - accuracy: 0.7785\n",
      "Epoch 114: val_loss did not improve from 0.30219\n",
      "39/39 [==============================] - 0s 7ms/step - loss: 0.4963 - accuracy: 0.7793 - val_loss: 0.3305 - val_accuracy: 0.8669\n",
      "Epoch 115/200\n",
      "36/39 [==========================>...] - ETA: 0s - loss: 0.5550 - accuracy: 0.7509\n",
      "Epoch 115: val_loss did not improve from 0.30219\n",
      "39/39 [==============================] - 0s 7ms/step - loss: 0.5619 - accuracy: 0.7467 - val_loss: 0.3602 - val_accuracy: 0.8247\n",
      "Epoch 116/200\n",
      "34/39 [=========================>....] - ETA: 0s - loss: 0.5255 - accuracy: 0.7684\n",
      "Epoch 116: val_loss improved from 0.30219 to 0.30088, saving model to saved_models\\audio_classification.hdf5\n"
     ]
    },
    {
     "name": "stdout",
     "output_type": "stream",
     "text": [
      "39/39 [==============================] - 0s 9ms/step - loss: 0.5278 - accuracy: 0.7728 - val_loss: 0.3009 - val_accuracy: 0.8896\n",
      "Epoch 117/200\n",
      "33/39 [========================>.....] - ETA: 0s - loss: 0.4847 - accuracy: 0.7699\n",
      "Epoch 117: val_loss did not improve from 0.30088\n",
      "39/39 [==============================] - 0s 7ms/step - loss: 0.5147 - accuracy: 0.7622 - val_loss: 0.3221 - val_accuracy: 0.8409\n",
      "Epoch 118/200\n",
      "35/39 [=========================>....] - ETA: 0s - loss: 0.5593 - accuracy: 0.7518\n",
      "Epoch 118: val_loss did not improve from 0.30088\n",
      "39/39 [==============================] - 0s 7ms/step - loss: 0.5498 - accuracy: 0.7590 - val_loss: 0.3113 - val_accuracy: 0.8734\n",
      "Epoch 119/200\n",
      "31/39 [======================>.......] - ETA: 0s - loss: 0.5498 - accuracy: 0.7621\n",
      "Epoch 119: val_loss did not improve from 0.30088\n",
      "39/39 [==============================] - 0s 7ms/step - loss: 0.5462 - accuracy: 0.7614 - val_loss: 0.3389 - val_accuracy: 0.8539\n",
      "Epoch 120/200\n",
      "37/39 [===========================>..] - ETA: 0s - loss: 0.5292 - accuracy: 0.7745\n",
      "Epoch 120: val_loss did not improve from 0.30088\n",
      "39/39 [==============================] - 0s 7ms/step - loss: 0.5368 - accuracy: 0.7720 - val_loss: 0.3282 - val_accuracy: 0.8799\n",
      "Epoch 121/200\n",
      "36/39 [==========================>...] - ETA: 0s - loss: 0.5168 - accuracy: 0.7674\n",
      "Epoch 121: val_loss did not improve from 0.30088\n",
      "39/39 [==============================] - 0s 7ms/step - loss: 0.5184 - accuracy: 0.7704 - val_loss: 0.3067 - val_accuracy: 0.8831\n",
      "Epoch 122/200\n",
      "37/39 [===========================>..] - ETA: 0s - loss: 0.5060 - accuracy: 0.7855\n",
      "Epoch 122: val_loss improved from 0.30088 to 0.29680, saving model to saved_models\\audio_classification.hdf5\n",
      "39/39 [==============================] - 0s 9ms/step - loss: 0.5018 - accuracy: 0.7850 - val_loss: 0.2968 - val_accuracy: 0.8929\n",
      "Epoch 123/200\n",
      "35/39 [=========================>....] - ETA: 0s - loss: 0.4847 - accuracy: 0.7839\n",
      "Epoch 123: val_loss did not improve from 0.29680\n",
      "39/39 [==============================] - 0s 7ms/step - loss: 0.4952 - accuracy: 0.7777 - val_loss: 0.3179 - val_accuracy: 0.8539\n",
      "Epoch 124/200\n",
      "34/39 [=========================>....] - ETA: 0s - loss: 0.5306 - accuracy: 0.7923\n",
      "Epoch 124: val_loss did not improve from 0.29680\n",
      "39/39 [==============================] - 0s 7ms/step - loss: 0.5318 - accuracy: 0.7883 - val_loss: 0.3369 - val_accuracy: 0.8539\n",
      "Epoch 125/200\n",
      "33/39 [========================>.....] - ETA: 0s - loss: 0.4579 - accuracy: 0.8030\n",
      "Epoch 125: val_loss did not improve from 0.29680\n",
      "39/39 [==============================] - 0s 7ms/step - loss: 0.4704 - accuracy: 0.7980 - val_loss: 0.3032 - val_accuracy: 0.8701\n",
      "Epoch 126/200\n",
      "33/39 [========================>.....] - ETA: 0s - loss: 0.4869 - accuracy: 0.7926\n",
      "Epoch 126: val_loss improved from 0.29680 to 0.29667, saving model to saved_models\\audio_classification.hdf5\n",
      "39/39 [==============================] - 0s 9ms/step - loss: 0.4859 - accuracy: 0.7915 - val_loss: 0.2967 - val_accuracy: 0.8961\n",
      "Epoch 127/200\n",
      "34/39 [=========================>....] - ETA: 0s - loss: 0.5226 - accuracy: 0.7914\n",
      "Epoch 127: val_loss did not improve from 0.29667\n",
      "39/39 [==============================] - 0s 7ms/step - loss: 0.5149 - accuracy: 0.7923 - val_loss: 0.3189 - val_accuracy: 0.8604\n",
      "Epoch 128/200\n",
      "34/39 [=========================>....] - ETA: 0s - loss: 0.5308 - accuracy: 0.7693\n",
      "Epoch 128: val_loss did not improve from 0.29667\n",
      "39/39 [==============================] - 0s 7ms/step - loss: 0.5294 - accuracy: 0.7663 - val_loss: 0.3751 - val_accuracy: 0.8344\n",
      "Epoch 129/200\n",
      "33/39 [========================>.....] - ETA: 0s - loss: 0.4942 - accuracy: 0.7869\n",
      "Epoch 129: val_loss improved from 0.29667 to 0.28164, saving model to saved_models\\audio_classification.hdf5\n",
      "39/39 [==============================] - 0s 8ms/step - loss: 0.4797 - accuracy: 0.7948 - val_loss: 0.2816 - val_accuracy: 0.8929\n",
      "Epoch 130/200\n",
      "35/39 [=========================>....] - ETA: 0s - loss: 0.4745 - accuracy: 0.7866\n",
      "Epoch 130: val_loss did not improve from 0.28164\n",
      "39/39 [==============================] - 0s 7ms/step - loss: 0.4801 - accuracy: 0.7866 - val_loss: 0.2834 - val_accuracy: 0.8864\n",
      "Epoch 131/200\n",
      "33/39 [========================>.....] - ETA: 0s - loss: 0.4745 - accuracy: 0.8021\n",
      "Epoch 131: val_loss did not improve from 0.28164\n",
      "39/39 [==============================] - 0s 7ms/step - loss: 0.4765 - accuracy: 0.8021 - val_loss: 0.2977 - val_accuracy: 0.8831\n",
      "Epoch 132/200\n",
      "36/39 [==========================>...] - ETA: 0s - loss: 0.5302 - accuracy: 0.7743\n",
      "Epoch 132: val_loss did not improve from 0.28164\n",
      "39/39 [==============================] - 0s 6ms/step - loss: 0.5217 - accuracy: 0.7785 - val_loss: 0.3092 - val_accuracy: 0.8604\n",
      "Epoch 133/200\n",
      "34/39 [=========================>....] - ETA: 0s - loss: 0.4787 - accuracy: 0.7665\n",
      "Epoch 133: val_loss did not improve from 0.28164\n",
      "39/39 [==============================] - 0s 6ms/step - loss: 0.4831 - accuracy: 0.7679 - val_loss: 0.2872 - val_accuracy: 0.8864\n",
      "Epoch 134/200\n",
      "33/39 [========================>.....] - ETA: 0s - loss: 0.5082 - accuracy: 0.7955\n",
      "Epoch 134: val_loss did not improve from 0.28164\n",
      "39/39 [==============================] - 0s 6ms/step - loss: 0.4954 - accuracy: 0.7956 - val_loss: 0.3035 - val_accuracy: 0.8636\n",
      "Epoch 135/200\n",
      "33/39 [========================>.....] - ETA: 0s - loss: 0.5156 - accuracy: 0.7803\n",
      "Epoch 135: val_loss did not improve from 0.28164\n",
      "39/39 [==============================] - 0s 7ms/step - loss: 0.5107 - accuracy: 0.7850 - val_loss: 0.3001 - val_accuracy: 0.8799\n",
      "Epoch 136/200\n",
      "34/39 [=========================>....] - ETA: 0s - loss: 0.4895 - accuracy: 0.7904\n",
      "Epoch 136: val_loss did not improve from 0.28164\n",
      "39/39 [==============================] - 0s 7ms/step - loss: 0.4806 - accuracy: 0.8013 - val_loss: 0.2919 - val_accuracy: 0.8831\n",
      "Epoch 137/200\n",
      "36/39 [==========================>...] - ETA: 0s - loss: 0.4753 - accuracy: 0.7977\n",
      "Epoch 137: val_loss did not improve from 0.28164\n",
      "39/39 [==============================] - 0s 7ms/step - loss: 0.4742 - accuracy: 0.7980 - val_loss: 0.2943 - val_accuracy: 0.8799\n",
      "Epoch 138/200\n",
      "33/39 [========================>.....] - ETA: 0s - loss: 0.4787 - accuracy: 0.7964\n",
      "Epoch 138: val_loss did not improve from 0.28164\n",
      "39/39 [==============================] - 0s 7ms/step - loss: 0.4875 - accuracy: 0.7997 - val_loss: 0.3551 - val_accuracy: 0.8312\n",
      "Epoch 139/200\n",
      "32/39 [=======================>......] - ETA: 0s - loss: 0.5125 - accuracy: 0.7695\n",
      "Epoch 139: val_loss did not improve from 0.28164\n",
      "39/39 [==============================] - 0s 7ms/step - loss: 0.5067 - accuracy: 0.7720 - val_loss: 0.3137 - val_accuracy: 0.8312\n",
      "Epoch 140/200\n",
      "34/39 [=========================>....] - ETA: 0s - loss: 0.4754 - accuracy: 0.8070\n",
      "Epoch 140: val_loss did not improve from 0.28164\n",
      "39/39 [==============================] - 0s 7ms/step - loss: 0.4810 - accuracy: 0.8013 - val_loss: 0.2894 - val_accuracy: 0.8961\n",
      "Epoch 141/200\n",
      "32/39 [=======================>......] - ETA: 0s - loss: 0.5177 - accuracy: 0.7871\n",
      "Epoch 141: val_loss did not improve from 0.28164\n",
      "39/39 [==============================] - 0s 7ms/step - loss: 0.5214 - accuracy: 0.7866 - val_loss: 0.3299 - val_accuracy: 0.8442\n",
      "Epoch 142/200\n",
      "33/39 [========================>.....] - ETA: 0s - loss: 0.5152 - accuracy: 0.7727\n",
      "Epoch 142: val_loss did not improve from 0.28164\n",
      "39/39 [==============================] - 0s 7ms/step - loss: 0.5186 - accuracy: 0.7720 - val_loss: 0.3077 - val_accuracy: 0.8506\n",
      "Epoch 143/200\n",
      "31/39 [======================>.......] - ETA: 0s - loss: 0.4941 - accuracy: 0.8034\n",
      "Epoch 143: val_loss did not improve from 0.28164\n",
      "39/39 [==============================] - 0s 7ms/step - loss: 0.4959 - accuracy: 0.8005 - val_loss: 0.3008 - val_accuracy: 0.8604\n",
      "Epoch 144/200\n",
      "32/39 [=======================>......] - ETA: 0s - loss: 0.4554 - accuracy: 0.8057\n",
      "Epoch 144: val_loss improved from 0.28164 to 0.26998, saving model to saved_models\\audio_classification.hdf5\n",
      "39/39 [==============================] - 0s 9ms/step - loss: 0.4636 - accuracy: 0.7997 - val_loss: 0.2700 - val_accuracy: 0.9156\n",
      "Epoch 145/200\n",
      "36/39 [==========================>...] - ETA: 0s - loss: 0.4451 - accuracy: 0.8082\n",
      "Epoch 145: val_loss did not improve from 0.26998\n"
     ]
    },
    {
     "name": "stdout",
     "output_type": "stream",
     "text": [
      "39/39 [==============================] - 0s 8ms/step - loss: 0.4484 - accuracy: 0.8037 - val_loss: 0.3289 - val_accuracy: 0.8279\n",
      "Epoch 146/200\n",
      "31/39 [======================>.......] - ETA: 0s - loss: 0.4755 - accuracy: 0.8115\n",
      "Epoch 146: val_loss did not improve from 0.26998\n",
      "39/39 [==============================] - 0s 7ms/step - loss: 0.4892 - accuracy: 0.8054 - val_loss: 0.2781 - val_accuracy: 0.8864\n",
      "Epoch 147/200\n",
      "33/39 [========================>.....] - ETA: 0s - loss: 0.5028 - accuracy: 0.7917\n",
      "Epoch 147: val_loss did not improve from 0.26998\n",
      "39/39 [==============================] - 0s 7ms/step - loss: 0.4983 - accuracy: 0.7940 - val_loss: 0.3133 - val_accuracy: 0.8799\n",
      "Epoch 148/200\n",
      "32/39 [=======================>......] - ETA: 0s - loss: 0.4899 - accuracy: 0.7910\n",
      "Epoch 148: val_loss did not improve from 0.26998\n",
      "39/39 [==============================] - 0s 7ms/step - loss: 0.4942 - accuracy: 0.7923 - val_loss: 0.2995 - val_accuracy: 0.8701\n",
      "Epoch 149/200\n",
      "34/39 [=========================>....] - ETA: 0s - loss: 0.5304 - accuracy: 0.7849\n",
      "Epoch 149: val_loss did not improve from 0.26998\n",
      "39/39 [==============================] - 0s 6ms/step - loss: 0.5192 - accuracy: 0.7850 - val_loss: 0.3331 - val_accuracy: 0.8442\n",
      "Epoch 150/200\n",
      "35/39 [=========================>....] - ETA: 0s - loss: 0.4704 - accuracy: 0.8098\n",
      "Epoch 150: val_loss did not improve from 0.26998\n",
      "39/39 [==============================] - 0s 7ms/step - loss: 0.4648 - accuracy: 0.8094 - val_loss: 0.2899 - val_accuracy: 0.8734\n",
      "Epoch 151/200\n",
      "34/39 [=========================>....] - ETA: 0s - loss: 0.4588 - accuracy: 0.8051\n",
      "Epoch 151: val_loss did not improve from 0.26998\n",
      "39/39 [==============================] - 0s 6ms/step - loss: 0.4624 - accuracy: 0.8037 - val_loss: 0.3834 - val_accuracy: 0.8084\n",
      "Epoch 152/200\n",
      "36/39 [==========================>...] - ETA: 0s - loss: 0.5352 - accuracy: 0.7743\n",
      "Epoch 152: val_loss did not improve from 0.26998\n",
      "39/39 [==============================] - 0s 7ms/step - loss: 0.5336 - accuracy: 0.7736 - val_loss: 0.3079 - val_accuracy: 0.8669\n",
      "Epoch 153/200\n",
      "36/39 [==========================>...] - ETA: 0s - loss: 0.5104 - accuracy: 0.7839\n",
      "Epoch 153: val_loss did not improve from 0.26998\n",
      "39/39 [==============================] - 0s 6ms/step - loss: 0.5178 - accuracy: 0.7826 - val_loss: 0.3183 - val_accuracy: 0.8409\n",
      "Epoch 154/200\n",
      "33/39 [========================>.....] - ETA: 0s - loss: 0.5026 - accuracy: 0.7822\n",
      "Epoch 154: val_loss did not improve from 0.26998\n",
      "39/39 [==============================] - 0s 7ms/step - loss: 0.4911 - accuracy: 0.7899 - val_loss: 0.3178 - val_accuracy: 0.8701\n",
      "Epoch 155/200\n",
      "34/39 [=========================>....] - ETA: 0s - loss: 0.4769 - accuracy: 0.7960\n",
      "Epoch 155: val_loss did not improve from 0.26998\n",
      "39/39 [==============================] - 0s 7ms/step - loss: 0.4797 - accuracy: 0.7956 - val_loss: 0.3079 - val_accuracy: 0.8799\n",
      "Epoch 156/200\n",
      "34/39 [=========================>....] - ETA: 0s - loss: 0.5293 - accuracy: 0.7656\n",
      "Epoch 156: val_loss did not improve from 0.26998\n",
      "39/39 [==============================] - 0s 6ms/step - loss: 0.5476 - accuracy: 0.7614 - val_loss: 0.3213 - val_accuracy: 0.8409\n",
      "Epoch 157/200\n",
      "34/39 [=========================>....] - ETA: 0s - loss: 0.4491 - accuracy: 0.7978\n",
      "Epoch 157: val_loss did not improve from 0.26998\n",
      "39/39 [==============================] - 0s 7ms/step - loss: 0.4593 - accuracy: 0.7948 - val_loss: 0.3455 - val_accuracy: 0.8409\n",
      "Epoch 158/200\n",
      "34/39 [=========================>....] - ETA: 0s - loss: 0.4919 - accuracy: 0.7840\n",
      "Epoch 158: val_loss did not improve from 0.26998\n",
      "39/39 [==============================] - 0s 7ms/step - loss: 0.4879 - accuracy: 0.7891 - val_loss: 0.3203 - val_accuracy: 0.8539\n",
      "Epoch 159/200\n",
      "35/39 [=========================>....] - ETA: 0s - loss: 0.4882 - accuracy: 0.7911\n",
      "Epoch 159: val_loss did not improve from 0.26998\n",
      "39/39 [==============================] - 0s 7ms/step - loss: 0.4909 - accuracy: 0.7932 - val_loss: 0.2944 - val_accuracy: 0.8896\n",
      "Epoch 160/200\n",
      "35/39 [=========================>....] - ETA: 0s - loss: 0.4828 - accuracy: 0.7929\n",
      "Epoch 160: val_loss did not improve from 0.26998\n",
      "39/39 [==============================] - 0s 7ms/step - loss: 0.4776 - accuracy: 0.7948 - val_loss: 0.2977 - val_accuracy: 0.8734\n",
      "Epoch 161/200\n",
      "34/39 [=========================>....] - ETA: 0s - loss: 0.4961 - accuracy: 0.7895\n",
      "Epoch 161: val_loss did not improve from 0.26998\n",
      "39/39 [==============================] - 0s 6ms/step - loss: 0.4798 - accuracy: 0.7980 - val_loss: 0.2868 - val_accuracy: 0.8929\n",
      "Epoch 162/200\n",
      "36/39 [==========================>...] - ETA: 0s - loss: 0.5396 - accuracy: 0.7734\n",
      "Epoch 162: val_loss did not improve from 0.26998\n",
      "39/39 [==============================] - 0s 6ms/step - loss: 0.5314 - accuracy: 0.7761 - val_loss: 0.3301 - val_accuracy: 0.8344\n",
      "Epoch 163/200\n",
      "35/39 [=========================>....] - ETA: 0s - loss: 0.4872 - accuracy: 0.7679\n",
      "Epoch 163: val_loss did not improve from 0.26998\n",
      "39/39 [==============================] - 0s 6ms/step - loss: 0.4890 - accuracy: 0.7704 - val_loss: 0.2876 - val_accuracy: 0.8701\n",
      "Epoch 164/200\n",
      "33/39 [========================>.....] - ETA: 0s - loss: 0.4943 - accuracy: 0.7841\n",
      "Epoch 164: val_loss did not improve from 0.26998\n",
      "39/39 [==============================] - 0s 7ms/step - loss: 0.4884 - accuracy: 0.7842 - val_loss: 0.2721 - val_accuracy: 0.8896\n",
      "Epoch 165/200\n",
      "36/39 [==========================>...] - ETA: 0s - loss: 0.4846 - accuracy: 0.8064\n",
      "Epoch 165: val_loss did not improve from 0.26998\n",
      "39/39 [==============================] - 0s 6ms/step - loss: 0.4779 - accuracy: 0.8078 - val_loss: 0.2736 - val_accuracy: 0.8864\n",
      "Epoch 166/200\n",
      "35/39 [=========================>....] - ETA: 0s - loss: 0.4725 - accuracy: 0.7955\n",
      "Epoch 166: val_loss did not improve from 0.26998\n",
      "39/39 [==============================] - 0s 6ms/step - loss: 0.4823 - accuracy: 0.7923 - val_loss: 0.2768 - val_accuracy: 0.8831\n",
      "Epoch 167/200\n",
      "35/39 [=========================>....] - ETA: 0s - loss: 0.4405 - accuracy: 0.8062\n",
      "Epoch 167: val_loss improved from 0.26998 to 0.26866, saving model to saved_models\\audio_classification.hdf5\n",
      "39/39 [==============================] - 0s 8ms/step - loss: 0.4385 - accuracy: 0.8094 - val_loss: 0.2687 - val_accuracy: 0.8896\n",
      "Epoch 168/200\n",
      "35/39 [=========================>....] - ETA: 0s - loss: 0.4625 - accuracy: 0.7973\n",
      "Epoch 168: val_loss improved from 0.26866 to 0.26763, saving model to saved_models\\audio_classification.hdf5\n",
      "39/39 [==============================] - 0s 9ms/step - loss: 0.4595 - accuracy: 0.7980 - val_loss: 0.2676 - val_accuracy: 0.8896\n",
      "Epoch 169/200\n",
      "33/39 [========================>.....] - ETA: 0s - loss: 0.5143 - accuracy: 0.7869\n",
      "Epoch 169: val_loss did not improve from 0.26763\n",
      "39/39 [==============================] - 0s 6ms/step - loss: 0.5060 - accuracy: 0.7891 - val_loss: 0.2785 - val_accuracy: 0.9156\n",
      "Epoch 170/200\n",
      "32/39 [=======================>......] - ETA: 0s - loss: 0.4286 - accuracy: 0.8242\n",
      "Epoch 170: val_loss did not improve from 0.26763\n",
      "39/39 [==============================] - 0s 7ms/step - loss: 0.4311 - accuracy: 0.8192 - val_loss: 0.3168 - val_accuracy: 0.8539\n",
      "Epoch 171/200\n",
      "33/39 [========================>.....] - ETA: 0s - loss: 0.4595 - accuracy: 0.8106\n",
      "Epoch 171: val_loss did not improve from 0.26763\n",
      "39/39 [==============================] - 0s 7ms/step - loss: 0.4766 - accuracy: 0.8046 - val_loss: 0.3632 - val_accuracy: 0.8377\n",
      "Epoch 172/200\n",
      "35/39 [=========================>....] - ETA: 0s - loss: 0.4804 - accuracy: 0.7973\n",
      "Epoch 172: val_loss did not improve from 0.26763\n",
      "39/39 [==============================] - 0s 6ms/step - loss: 0.4795 - accuracy: 0.7964 - val_loss: 0.2909 - val_accuracy: 0.8539\n",
      "Epoch 173/200\n",
      "34/39 [=========================>....] - ETA: 0s - loss: 0.5483 - accuracy: 0.8015\n",
      "Epoch 173: val_loss did not improve from 0.26763\n",
      "39/39 [==============================] - 0s 7ms/step - loss: 0.5323 - accuracy: 0.8062 - val_loss: 0.3192 - val_accuracy: 0.8409\n",
      "Epoch 174/200\n",
      "34/39 [=========================>....] - ETA: 0s - loss: 0.4600 - accuracy: 0.8024\n",
      "Epoch 174: val_loss did not improve from 0.26763\n",
      "39/39 [==============================] - 0s 7ms/step - loss: 0.4621 - accuracy: 0.7997 - val_loss: 0.3077 - val_accuracy: 0.8506\n"
     ]
    },
    {
     "name": "stdout",
     "output_type": "stream",
     "text": [
      "Epoch 175/200\n",
      "34/39 [=========================>....] - ETA: 0s - loss: 0.5034 - accuracy: 0.8107\n",
      "Epoch 175: val_loss did not improve from 0.26763\n",
      "39/39 [==============================] - 0s 7ms/step - loss: 0.4943 - accuracy: 0.8119 - val_loss: 0.3511 - val_accuracy: 0.8182\n",
      "Epoch 176/200\n",
      "35/39 [=========================>....] - ETA: 0s - loss: 0.4764 - accuracy: 0.7929\n",
      "Epoch 176: val_loss did not improve from 0.26763\n",
      "39/39 [==============================] - 0s 6ms/step - loss: 0.4815 - accuracy: 0.7883 - val_loss: 0.3211 - val_accuracy: 0.8312\n",
      "Epoch 177/200\n",
      "34/39 [=========================>....] - ETA: 0s - loss: 0.4472 - accuracy: 0.7969\n",
      "Epoch 177: val_loss did not improve from 0.26763\n",
      "39/39 [==============================] - 0s 7ms/step - loss: 0.4505 - accuracy: 0.7972 - val_loss: 0.3480 - val_accuracy: 0.8344\n",
      "Epoch 178/200\n",
      "33/39 [========================>.....] - ETA: 0s - loss: 0.5338 - accuracy: 0.7727\n",
      "Epoch 178: val_loss did not improve from 0.26763\n",
      "39/39 [==============================] - 0s 7ms/step - loss: 0.5172 - accuracy: 0.7834 - val_loss: 0.2999 - val_accuracy: 0.8766\n",
      "Epoch 179/200\n",
      "37/39 [===========================>..] - ETA: 0s - loss: 0.4728 - accuracy: 0.8032\n",
      "Epoch 179: val_loss did not improve from 0.26763\n",
      "39/39 [==============================] - 0s 6ms/step - loss: 0.4759 - accuracy: 0.7989 - val_loss: 0.2937 - val_accuracy: 0.8766\n",
      "Epoch 180/200\n",
      "34/39 [=========================>....] - ETA: 0s - loss: 0.4312 - accuracy: 0.8244\n",
      "Epoch 180: val_loss did not improve from 0.26763\n",
      "39/39 [==============================] - 0s 7ms/step - loss: 0.4323 - accuracy: 0.8241 - val_loss: 0.3091 - val_accuracy: 0.8506\n",
      "Epoch 181/200\n",
      "34/39 [=========================>....] - ETA: 0s - loss: 0.4443 - accuracy: 0.8171\n",
      "Epoch 181: val_loss did not improve from 0.26763\n",
      "39/39 [==============================] - 0s 6ms/step - loss: 0.4406 - accuracy: 0.8208 - val_loss: 0.2836 - val_accuracy: 0.8701\n",
      "Epoch 182/200\n",
      "35/39 [=========================>....] - ETA: 0s - loss: 0.4542 - accuracy: 0.8045\n",
      "Epoch 182: val_loss did not improve from 0.26763\n",
      "39/39 [==============================] - 0s 7ms/step - loss: 0.4704 - accuracy: 0.7980 - val_loss: 0.2859 - val_accuracy: 0.8571\n",
      "Epoch 183/200\n",
      "34/39 [=========================>....] - ETA: 0s - loss: 0.5318 - accuracy: 0.7730\n",
      "Epoch 183: val_loss did not improve from 0.26763\n",
      "39/39 [==============================] - 0s 7ms/step - loss: 0.5276 - accuracy: 0.7785 - val_loss: 0.2992 - val_accuracy: 0.8669\n",
      "Epoch 184/200\n",
      "32/39 [=======================>......] - ETA: 0s - loss: 0.4633 - accuracy: 0.8076\n",
      "Epoch 184: val_loss did not improve from 0.26763\n",
      "39/39 [==============================] - 0s 7ms/step - loss: 0.4885 - accuracy: 0.8062 - val_loss: 0.3146 - val_accuracy: 0.8474\n",
      "Epoch 185/200\n",
      "34/39 [=========================>....] - ETA: 0s - loss: 0.5056 - accuracy: 0.7914\n",
      "Epoch 185: val_loss did not improve from 0.26763\n",
      "39/39 [==============================] - 0s 7ms/step - loss: 0.5185 - accuracy: 0.7858 - val_loss: 0.3350 - val_accuracy: 0.8377\n",
      "Epoch 186/200\n",
      "36/39 [==========================>...] - ETA: 0s - loss: 0.4988 - accuracy: 0.7891\n",
      "Epoch 186: val_loss did not improve from 0.26763\n",
      "39/39 [==============================] - 0s 6ms/step - loss: 0.4959 - accuracy: 0.7899 - val_loss: 0.3049 - val_accuracy: 0.8734\n",
      "Epoch 187/200\n",
      "34/39 [=========================>....] - ETA: 0s - loss: 0.4344 - accuracy: 0.8171\n",
      "Epoch 187: val_loss did not improve from 0.26763\n",
      "39/39 [==============================] - 0s 6ms/step - loss: 0.4349 - accuracy: 0.8184 - val_loss: 0.2994 - val_accuracy: 0.8604\n",
      "Epoch 188/200\n",
      "28/39 [====================>.........] - ETA: 0s - loss: 0.4190 - accuracy: 0.8069\n",
      "Epoch 188: val_loss did not improve from 0.26763\n",
      "39/39 [==============================] - 0s 7ms/step - loss: 0.4381 - accuracy: 0.7972 - val_loss: 0.3200 - val_accuracy: 0.8506\n",
      "Epoch 189/200\n",
      "35/39 [=========================>....] - ETA: 0s - loss: 0.4560 - accuracy: 0.7866\n",
      "Epoch 189: val_loss did not improve from 0.26763\n",
      "39/39 [==============================] - 0s 7ms/step - loss: 0.4726 - accuracy: 0.7834 - val_loss: 0.2813 - val_accuracy: 0.8604\n",
      "Epoch 190/200\n",
      "36/39 [==========================>...] - ETA: 0s - loss: 0.4883 - accuracy: 0.7873\n",
      "Epoch 190: val_loss did not improve from 0.26763\n",
      "39/39 [==============================] - 0s 6ms/step - loss: 0.4876 - accuracy: 0.7883 - val_loss: 0.2776 - val_accuracy: 0.9091\n",
      "Epoch 191/200\n",
      "34/39 [=========================>....] - ETA: 0s - loss: 0.4365 - accuracy: 0.8024\n",
      "Epoch 191: val_loss did not improve from 0.26763\n",
      "39/39 [==============================] - 0s 7ms/step - loss: 0.4345 - accuracy: 0.8054 - val_loss: 0.2812 - val_accuracy: 0.8831\n",
      "Epoch 192/200\n",
      "36/39 [==========================>...] - ETA: 0s - loss: 0.4407 - accuracy: 0.8160\n",
      "Epoch 192: val_loss did not improve from 0.26763\n",
      "39/39 [==============================] - 0s 7ms/step - loss: 0.4402 - accuracy: 0.8160 - val_loss: 0.2732 - val_accuracy: 0.8994\n",
      "Epoch 193/200\n",
      "36/39 [==========================>...] - ETA: 0s - loss: 0.4482 - accuracy: 0.8047\n",
      "Epoch 193: val_loss did not improve from 0.26763\n",
      "39/39 [==============================] - 0s 7ms/step - loss: 0.4436 - accuracy: 0.8078 - val_loss: 0.2817 - val_accuracy: 0.8831\n",
      "Epoch 194/200\n",
      "37/39 [===========================>..] - ETA: 0s - loss: 0.4768 - accuracy: 0.7796\n",
      "Epoch 194: val_loss did not improve from 0.26763\n",
      "39/39 [==============================] - 0s 6ms/step - loss: 0.4748 - accuracy: 0.7793 - val_loss: 0.3390 - val_accuracy: 0.8474\n",
      "Epoch 195/200\n",
      "35/39 [=========================>....] - ETA: 0s - loss: 0.5025 - accuracy: 0.7830\n",
      "Epoch 195: val_loss did not improve from 0.26763\n",
      "39/39 [==============================] - 0s 6ms/step - loss: 0.5093 - accuracy: 0.7826 - val_loss: 0.3300 - val_accuracy: 0.8474\n",
      "Epoch 196/200\n",
      "34/39 [=========================>....] - ETA: 0s - loss: 0.4690 - accuracy: 0.7950\n",
      "Epoch 196: val_loss did not improve from 0.26763\n",
      "39/39 [==============================] - 0s 7ms/step - loss: 0.4613 - accuracy: 0.7997 - val_loss: 0.2877 - val_accuracy: 0.8864\n",
      "Epoch 197/200\n",
      "34/39 [=========================>....] - ETA: 0s - loss: 0.4394 - accuracy: 0.8199\n",
      "Epoch 197: val_loss did not improve from 0.26763\n",
      "39/39 [==============================] - 0s 7ms/step - loss: 0.4410 - accuracy: 0.8233 - val_loss: 0.2900 - val_accuracy: 0.8636\n",
      "Epoch 198/200\n",
      "31/39 [======================>.......] - ETA: 0s - loss: 0.4841 - accuracy: 0.7933\n",
      "Epoch 198: val_loss did not improve from 0.26763\n",
      "39/39 [==============================] - 0s 7ms/step - loss: 0.4866 - accuracy: 0.7899 - val_loss: 0.2955 - val_accuracy: 0.8669\n",
      "Epoch 199/200\n",
      "33/39 [========================>.....] - ETA: 0s - loss: 0.4898 - accuracy: 0.8078\n",
      "Epoch 199: val_loss improved from 0.26763 to 0.26610, saving model to saved_models\\audio_classification.hdf5\n",
      "39/39 [==============================] - 0s 9ms/step - loss: 0.4795 - accuracy: 0.8135 - val_loss: 0.2661 - val_accuracy: 0.9156\n",
      "Epoch 200/200\n",
      "31/39 [======================>.......] - ETA: 0s - loss: 0.5067 - accuracy: 0.7994\n",
      "Epoch 200: val_loss did not improve from 0.26610\n",
      "39/39 [==============================] - 0s 7ms/step - loss: 0.5063 - accuracy: 0.7972 - val_loss: 0.3128 - val_accuracy: 0.8636\n",
      "Training completed in time:  0:00:56.152804\n"
     ]
    }
   ],
   "source": [
    "## Trianing my model\n",
    "from tensorflow.keras.callbacks import ModelCheckpoint\n",
    "from datetime import datetime \n",
    "\n",
    "num_epochs = 200\n",
    "num_batch_size = 32\n",
    "\n",
    "checkpointer = ModelCheckpoint(filepath='saved_models/audio_classification.hdf5', \n",
    "                               verbose=1, save_best_only=True)\n",
    "start = datetime.now()\n",
    "\n",
    "model.fit(X_train1, y_train1, batch_size=num_batch_size, epochs=num_epochs,validation_data=(X_val1, y_val1), callbacks=[checkpointer], verbose=1)\n",
    "\n",
    "\n",
    "duration = datetime.now() - start\n",
    "print(\"Training completed in time: \", duration)"
   ]
  },
  {
   "cell_type": "code",
   "execution_count": 84,
   "id": "2bb7f028",
   "metadata": {},
   "outputs": [
    {
     "name": "stdout",
     "output_type": "stream",
     "text": [
      "0.8411458134651184\n"
     ]
    }
   ],
   "source": [
    "test_accuracy=model.evaluate(X_test,y_test,verbose=0)\n",
    "print(test_accuracy[1])"
   ]
  },
  {
   "cell_type": "code",
   "execution_count": 85,
   "id": "fde84131",
   "metadata": {},
   "outputs": [
    {
     "data": {
      "text/plain": [
       "no leak present under hydr environment        192\n",
       "leak present under hydr environment           192\n",
       "no leak present under hydr_low environment    192\n",
       "leak present under hydr_low environment       192\n",
       "no leak present under lab environment         192\n",
       "leak present under lab environment            192\n",
       "no leak present under work environment        192\n",
       "leak present under work environment           192\n",
       "no leak present under work_low environment    192\n",
       "leak present under work_low environment       192\n",
       "Name: Class, dtype: int64"
      ]
     },
     "execution_count": 85,
     "metadata": {},
     "output_type": "execute_result"
    }
   ],
   "source": [
    "Count = df['Class'].value_counts()\n",
    "Count"
   ]
  },
  {
   "cell_type": "code",
   "execution_count": 86,
   "id": "3e84ef1c",
   "metadata": {},
   "outputs": [
    {
     "data": {
      "image/png": "[encoded data removed]",
      "text/plain": [
       "<Figure size 640x480 with 1 Axes>"
      ]
     },
     "metadata": {},
     "output_type": "display_data"
    }
   ],
   "source": [
    "import matplotlib.pyplot as plt\n",
    "Count.plot(kind=\"bar\")\n",
    "plt.xlabel(\"Class_Name\")\n",
    "plt.ylabel(\"Count\")\n",
    "plt.title(\"Class_Name vs Count\")\n",
    "plt.show()"
   ]
  },
  {
   "cell_type": "code",
   "execution_count": null,
   "id": "6d4dcdcc",
   "metadata": {},
   "outputs": [],
   "source": []
  },
  {
   "cell_type": "code",
   "execution_count": null,
   "id": "725e5f71",
   "metadata": {},
   "outputs": [],
   "source": []
  }
 ],
 "metadata": {
  "kernelspec": {
   "display_name": "Python 3 (ipykernel)",
   "language": "python",
   "name": "python3"
  },
  "language_info": {
   "codemirror_mode": {
    "name": "ipython",
    "version": 3
   },
   "file_extension": ".py",
   "mimetype": "text/x-python",
   "name": "python",
   "nbconvert_exporter": "python",
   "pygments_lexer": "ipython3",
   "version": "3.10.8"
  }
 },
 "nbformat": 4,
 "nbformat_minor": 5
}
