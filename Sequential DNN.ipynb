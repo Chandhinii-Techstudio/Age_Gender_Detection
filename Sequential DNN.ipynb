{
 "cells": [
  {
   "cell_type": "code",
   "execution_count": 1,
   "id": "df6ad37d",
   "metadata": {},
   "outputs": [],
   "source": [
    "import os\n",
    "import csv \n",
    "import pandas as pd\n",
    "import librosa\n",
    "import numpy as np\n",
    "\n",
    "pathname=[]\n",
    "filename=[]\n",
    "mfccsfeatures = []\n",
    "for root, dirs, files in os.walk(r\"C:\\Users\\Chandhinii.B\\Desktop\\Electrical engineering course\\Winter semester 2022\\Ferdinand steinbeis institute\\AI\\Dataset\"): \n",
    "    for fname in files:\n",
    "        path = os.path.join(root, fname)\n",
    "        pathname.append(path)\n",
    "        audio, sample_rate = librosa.load(path)\n",
    "        mfccs_features = librosa.feature.mfcc(y=audio, sr=sample_rate, n_mfcc=40)\n",
    "        mfccs_scaled_features = np.mean(mfccs_features.T,axis=0)\n",
    "        mfccsfeatures.append(mfccs_scaled_features)\n",
    "for i in pathname:\n",
    "    Name = os.path.basename(i)\n",
    "    filename.append(Name)    \n",
    "columns=['Pathname', 'Filename','MFCCfeatures']            \n",
    "df = pd.DataFrame(list(zip(pathname, filename,mfccsfeatures)),\n",
    "                 columns=columns)\n",
    "df.loc[df['Filename'].str.contains(\"_niO_\"), \"Class\"]=\"leak present\"\n",
    "df.loc[df['Filename'].str.contains(\"_iO_\"), \"Class\"]=\"no leak present\"\n",
    "df.to_csv('Final.csv')"
   ]
  },
  {
   "cell_type": "code",
   "execution_count": 2,
   "id": "dfdaae5b",
   "metadata": {},
   "outputs": [],
   "source": [
    "### Split the dataset into independent and dependent dataset\n",
    "X=np.array(df['MFCCfeatures'].tolist())\n",
    "y=np.array(df['Class'].tolist())"
   ]
  },
  {
   "cell_type": "code",
   "execution_count": 3,
   "id": "1d578caa",
   "metadata": {},
   "outputs": [
    {
     "data": {
      "text/plain": [
       "(1920, 40)"
      ]
     },
     "execution_count": 3,
     "metadata": {},
     "output_type": "execute_result"
    }
   ],
   "source": [
    "X.shape"
   ]
  },
  {
   "cell_type": "code",
   "execution_count": 4,
   "id": "f976c51f",
   "metadata": {},
   "outputs": [
    {
     "data": {
      "text/plain": [
       "array(['no leak present', 'no leak present', 'no leak present', ...,\n",
       "       'leak present', 'leak present', 'leak present'], dtype='<U15')"
      ]
     },
     "execution_count": 4,
     "metadata": {},
     "output_type": "execute_result"
    }
   ],
   "source": [
    "y"
   ]
  },
  {
   "cell_type": "code",
   "execution_count": 5,
   "id": "8472602a",
   "metadata": {},
   "outputs": [],
   "source": [
    "### Label Encoding\n",
    "###y=np.array(pd.get_dummies(y))\n",
    "### Label Encoder\n",
    "import tensorflow as tf\n",
    "import sklearn\n",
    "from tensorflow.keras.utils import to_categorical\n",
    "from sklearn.preprocessing import LabelEncoder\n",
    "labelencoder=LabelEncoder()\n",
    "y=to_categorical(labelencoder.fit_transform(y))"
   ]
  },
  {
   "cell_type": "code",
   "execution_count": 6,
   "id": "b7e421d1",
   "metadata": {},
   "outputs": [
    {
     "data": {
      "text/plain": [
       "array([[0., 1.],\n",
       "       [0., 1.],\n",
       "       [0., 1.],\n",
       "       ...,\n",
       "       [1., 0.],\n",
       "       [1., 0.],\n",
       "       [1., 0.]], dtype=float32)"
      ]
     },
     "execution_count": 6,
     "metadata": {},
     "output_type": "execute_result"
    }
   ],
   "source": [
    "y"
   ]
  },
  {
   "cell_type": "code",
   "execution_count": 7,
   "id": "cba564f9",
   "metadata": {},
   "outputs": [],
   "source": [
    "### Train Test Split\n",
    "from sklearn.model_selection import train_test_split\n",
    "X_train,X_test,y_train,y_test=train_test_split(X,y,test_size=0.2,random_state=0)"
   ]
  },
  {
   "cell_type": "code",
   "execution_count": 8,
   "id": "738bfd98",
   "metadata": {},
   "outputs": [
    {
     "data": {
      "text/plain": [
       "(1536, 40)"
      ]
     },
     "execution_count": 8,
     "metadata": {},
     "output_type": "execute_result"
    }
   ],
   "source": [
    "X_train.shape"
   ]
  },
  {
   "cell_type": "code",
   "execution_count": 9,
   "id": "5bccc322",
   "metadata": {},
   "outputs": [
    {
     "data": {
      "text/plain": [
       "(1536, 2)"
      ]
     },
     "execution_count": 9,
     "metadata": {},
     "output_type": "execute_result"
    }
   ],
   "source": [
    "y_train.shape"
   ]
  },
  {
   "cell_type": "code",
   "execution_count": 10,
   "id": "f31c7b93",
   "metadata": {},
   "outputs": [
    {
     "data": {
      "text/plain": [
       "(384, 40)"
      ]
     },
     "execution_count": 10,
     "metadata": {},
     "output_type": "execute_result"
    }
   ],
   "source": [
    "X_test.shape"
   ]
  },
  {
   "cell_type": "code",
   "execution_count": 11,
   "id": "7cd073d5",
   "metadata": {},
   "outputs": [
    {
     "data": {
      "text/plain": [
       "(384, 2)"
      ]
     },
     "execution_count": 11,
     "metadata": {},
     "output_type": "execute_result"
    }
   ],
   "source": [
    "y_test.shape"
   ]
  },
  {
   "cell_type": "code",
   "execution_count": 12,
   "id": "0b0a514f",
   "metadata": {},
   "outputs": [
    {
     "name": "stdout",
     "output_type": "stream",
     "text": [
      "2.9.1\n"
     ]
    }
   ],
   "source": [
    "import tensorflow as tf\n",
    "print(tf.__version__)"
   ]
  },
  {
   "cell_type": "code",
   "execution_count": 13,
   "id": "d009905a",
   "metadata": {},
   "outputs": [],
   "source": [
    "from tensorflow.keras.models import Sequential\n",
    "from tensorflow.keras.layers import Dense,Dropout,Activation,Flatten\n",
    "from tensorflow.keras.optimizers import Adam\n",
    "from sklearn import metrics"
   ]
  },
  {
   "cell_type": "code",
   "execution_count": 14,
   "id": "73bcf06a",
   "metadata": {},
   "outputs": [],
   "source": [
    "### No of classes\n",
    "num_labels=y.shape[1]"
   ]
  },
  {
   "cell_type": "code",
   "execution_count": 15,
   "id": "155160b1",
   "metadata": {},
   "outputs": [],
   "source": [
    "model=Sequential()\n",
    "###first layer\n",
    "model.add(Dense(100,input_shape=(40,)))\n",
    "model.add(Activation('relu'))\n",
    "model.add(Dropout(0.5))\n",
    "###second layer\n",
    "model.add(Dense(200))\n",
    "model.add(Activation('relu'))\n",
    "model.add(Dropout(0.5))\n",
    "###third layer\n",
    "model.add(Dense(100))\n",
    "model.add(Activation('relu'))\n",
    "model.add(Dropout(0.5))\n",
    "\n",
    "###final layer\n",
    "model.add(Dense(num_labels))\n",
    "model.add(Activation('softmax'))"
   ]
  },
  {
   "cell_type": "code",
   "execution_count": 16,
   "id": "ed7dfa20",
   "metadata": {},
   "outputs": [
    {
     "name": "stdout",
     "output_type": "stream",
     "text": [
      "Model: \"sequential\"\n",
      "_________________________________________________________________\n",
      " Layer (type)                Output Shape              Param #   \n",
      "=================================================================\n",
      " dense (Dense)               (None, 100)               4100      \n",
      "                                                                 \n",
      " activation (Activation)     (None, 100)               0         \n",
      "                                                                 \n",
      " dropout (Dropout)           (None, 100)               0         \n",
      "                                                                 \n",
      " dense_1 (Dense)             (None, 200)               20200     \n",
      "                                                                 \n",
      " activation_1 (Activation)   (None, 200)               0         \n",
      "                                                                 \n",
      " dropout_1 (Dropout)         (None, 200)               0         \n",
      "                                                                 \n",
      " dense_2 (Dense)             (None, 100)               20100     \n",
      "                                                                 \n",
      " activation_2 (Activation)   (None, 100)               0         \n",
      "                                                                 \n",
      " dropout_2 (Dropout)         (None, 100)               0         \n",
      "                                                                 \n",
      " dense_3 (Dense)             (None, 2)                 202       \n",
      "                                                                 \n",
      " activation_3 (Activation)   (None, 2)                 0         \n",
      "                                                                 \n",
      "=================================================================\n",
      "Total params: 44,602\n",
      "Trainable params: 44,602\n",
      "Non-trainable params: 0\n",
      "_________________________________________________________________\n"
     ]
    }
   ],
   "source": [
    "model.summary()"
   ]
  },
  {
   "cell_type": "code",
   "execution_count": 17,
   "id": "4b263a6b",
   "metadata": {},
   "outputs": [],
   "source": [
    "model.compile(loss='categorical_crossentropy',metrics=['accuracy'],optimizer='adam')"
   ]
  },
  {
   "cell_type": "code",
   "execution_count": 18,
   "id": "8e9bc993",
   "metadata": {},
   "outputs": [
    {
     "name": "stdout",
     "output_type": "stream",
     "text": [
      "Epoch 1/100\n",
      "33/48 [===================>..........] - ETA: 0s - loss: 16.3088 - accuracy: 0.5237WARNING:tensorflow:Can save best model only with val_loss available, skipping.\n",
      "48/48 [==============================] - 1s 3ms/step - loss: 14.5328 - accuracy: 0.5163\n",
      "Epoch 2/100\n",
      "40/48 [========================>.....] - ETA: 0s - loss: 7.1315 - accuracy: 0.4984WARNING:tensorflow:Can save best model only with val_loss available, skipping.\n",
      "48/48 [==============================] - 0s 3ms/step - loss: 6.7164 - accuracy: 0.5065\n",
      "Epoch 3/100\n",
      "36/48 [=====================>........] - ETA: 0s - loss: 4.3999 - accuracy: 0.5148WARNING:tensorflow:Can save best model only with val_loss available, skipping.\n",
      "48/48 [==============================] - 0s 3ms/step - loss: 4.1121 - accuracy: 0.5247\n",
      "Epoch 4/100\n",
      "32/48 [===================>..........] - ETA: 0s - loss: 2.6003 - accuracy: 0.5225WARNING:tensorflow:Can save best model only with val_loss available, skipping.\n",
      "48/48 [==============================] - 0s 3ms/step - loss: 2.5524 - accuracy: 0.5169\n",
      "Epoch 5/100\n",
      "37/48 [======================>.......] - ETA: 0s - loss: 1.8003 - accuracy: 0.5084WARNING:tensorflow:Can save best model only with val_loss available, skipping.\n",
      "48/48 [==============================] - 0s 3ms/step - loss: 1.7695 - accuracy: 0.5085\n",
      "Epoch 6/100\n",
      "35/48 [====================>.........] - ETA: 0s - loss: 1.3186 - accuracy: 0.5125WARNING:tensorflow:Can save best model only with val_loss available, skipping.\n",
      "48/48 [==============================] - 0s 3ms/step - loss: 1.3539 - accuracy: 0.5065\n",
      "Epoch 7/100\n",
      "34/48 [====================>.........] - ETA: 0s - loss: 1.1436 - accuracy: 0.5083WARNING:tensorflow:Can save best model only with val_loss available, skipping.\n",
      "48/48 [==============================] - 0s 3ms/step - loss: 1.1691 - accuracy: 0.5072\n",
      "Epoch 8/100\n",
      "37/48 [======================>.......] - ETA: 0s - loss: 1.0093 - accuracy: 0.4975WARNING:tensorflow:Can save best model only with val_loss available, skipping.\n",
      "48/48 [==============================] - 0s 3ms/step - loss: 1.0200 - accuracy: 0.4948\n",
      "Epoch 9/100\n",
      "33/48 [===================>..........] - ETA: 0s - loss: 0.9772 - accuracy: 0.5057WARNING:tensorflow:Can save best model only with val_loss available, skipping.\n",
      "48/48 [==============================] - 0s 3ms/step - loss: 0.9484 - accuracy: 0.5117\n",
      "Epoch 10/100\n",
      "33/48 [===================>..........] - ETA: 0s - loss: 0.8269 - accuracy: 0.5256WARNING:tensorflow:Can save best model only with val_loss available, skipping.\n",
      "48/48 [==============================] - 0s 3ms/step - loss: 0.8250 - accuracy: 0.5273\n",
      "Epoch 11/100\n",
      "32/48 [===================>..........] - ETA: 0s - loss: 0.8177 - accuracy: 0.5439WARNING:tensorflow:Can save best model only with val_loss available, skipping.\n",
      "48/48 [==============================] - 0s 3ms/step - loss: 0.8231 - accuracy: 0.5273\n",
      "Epoch 12/100\n",
      "37/48 [======================>.......] - ETA: 0s - loss: 0.7764 - accuracy: 0.5338WARNING:tensorflow:Can save best model only with val_loss available, skipping.\n",
      "48/48 [==============================] - 0s 3ms/step - loss: 0.7632 - accuracy: 0.5339\n",
      "Epoch 13/100\n",
      "33/48 [===================>..........] - ETA: 0s - loss: 0.7712 - accuracy: 0.5208WARNING:tensorflow:Can save best model only with val_loss available, skipping.\n",
      "48/48 [==============================] - 0s 3ms/step - loss: 0.7578 - accuracy: 0.5397\n",
      "Epoch 14/100\n",
      "37/48 [======================>.......] - ETA: 0s - loss: 0.7691 - accuracy: 0.5245WARNING:tensorflow:Can save best model only with val_loss available, skipping.\n",
      "48/48 [==============================] - 0s 3ms/step - loss: 0.7677 - accuracy: 0.5352\n",
      "Epoch 15/100\n",
      "32/48 [===================>..........] - ETA: 0s - loss: 0.7486 - accuracy: 0.5234WARNING:tensorflow:Can save best model only with val_loss available, skipping.\n",
      "48/48 [==============================] - 0s 3ms/step - loss: 0.7410 - accuracy: 0.5208\n",
      "Epoch 16/100\n",
      "33/48 [===================>..........] - ETA: 0s - loss: 0.7681 - accuracy: 0.5180WARNING:tensorflow:Can save best model only with val_loss available, skipping.\n",
      "48/48 [==============================] - 0s 3ms/step - loss: 0.7526 - accuracy: 0.5182\n",
      "Epoch 17/100\n",
      "37/48 [======================>.......] - ETA: 0s - loss: 0.7424 - accuracy: 0.5017WARNING:tensorflow:Can save best model only with val_loss available, skipping.\n",
      "48/48 [==============================] - 0s 3ms/step - loss: 0.7399 - accuracy: 0.5020\n",
      "Epoch 18/100\n",
      "35/48 [====================>.........] - ETA: 0s - loss: 0.7326 - accuracy: 0.5027WARNING:tensorflow:Can save best model only with val_loss available, skipping.\n",
      "48/48 [==============================] - 0s 3ms/step - loss: 0.7259 - accuracy: 0.5124\n",
      "Epoch 19/100\n",
      "30/48 [=================>............] - ETA: 0s - loss: 0.7201 - accuracy: 0.5219WARNING:tensorflow:Can save best model only with val_loss available, skipping.\n",
      "48/48 [==============================] - 0s 3ms/step - loss: 0.7197 - accuracy: 0.5176\n",
      "Epoch 20/100\n",
      "32/48 [===================>..........] - ETA: 0s - loss: 0.7221 - accuracy: 0.5303WARNING:tensorflow:Can save best model only with val_loss available, skipping.\n",
      "48/48 [==============================] - 0s 3ms/step - loss: 0.7125 - accuracy: 0.5443\n",
      "Epoch 21/100\n",
      "35/48 [====================>.........] - ETA: 0s - loss: 0.7142 - accuracy: 0.5071WARNING:tensorflow:Can save best model only with val_loss available, skipping.\n",
      "48/48 [==============================] - 0s 3ms/step - loss: 0.7207 - accuracy: 0.4987\n",
      "Epoch 22/100\n",
      "34/48 [====================>.........] - ETA: 0s - loss: 0.7167 - accuracy: 0.5000WARNING:tensorflow:Can save best model only with val_loss available, skipping.\n",
      "48/48 [==============================] - 0s 3ms/step - loss: 0.7125 - accuracy: 0.5020\n",
      "Epoch 23/100\n",
      "38/48 [======================>.......] - ETA: 0s - loss: 0.7132 - accuracy: 0.5033WARNING:tensorflow:Can save best model only with val_loss available, skipping.\n",
      "48/48 [==============================] - 0s 3ms/step - loss: 0.7188 - accuracy: 0.5072\n",
      "Epoch 24/100\n",
      "30/48 [=================>............] - ETA: 0s - loss: 0.7179 - accuracy: 0.5198WARNING:tensorflow:Can save best model only with val_loss available, skipping.\n",
      "48/48 [==============================] - 0s 3ms/step - loss: 0.7153 - accuracy: 0.5176\n",
      "Epoch 25/100\n",
      "36/48 [=====================>........] - ETA: 0s - loss: 0.7069 - accuracy: 0.5304WARNING:tensorflow:Can save best model only with val_loss available, skipping.\n",
      "48/48 [==============================] - 0s 3ms/step - loss: 0.7142 - accuracy: 0.5241\n",
      "Epoch 26/100\n",
      "35/48 [====================>.........] - ETA: 0s - loss: 0.6980 - accuracy: 0.5205WARNING:tensorflow:Can save best model only with val_loss available, skipping.\n",
      "48/48 [==============================] - 0s 3ms/step - loss: 0.6991 - accuracy: 0.5247\n",
      "Epoch 27/100\n",
      "34/48 [====================>.........] - ETA: 0s - loss: 0.7199 - accuracy: 0.5074WARNING:tensorflow:Can save best model only with val_loss available, skipping.\n",
      "48/48 [==============================] - 0s 3ms/step - loss: 0.7132 - accuracy: 0.5130\n",
      "Epoch 28/100\n",
      "36/48 [=====================>........] - ETA: 0s - loss: 0.7046 - accuracy: 0.5165WARNING:tensorflow:Can save best model only with val_loss available, skipping.\n",
      "48/48 [==============================] - 0s 3ms/step - loss: 0.7074 - accuracy: 0.5176\n",
      "Epoch 29/100\n",
      "38/48 [======================>.......] - ETA: 0s - loss: 0.6991 - accuracy: 0.5321WARNING:tensorflow:Can save best model only with val_loss available, skipping.\n",
      "48/48 [==============================] - 0s 3ms/step - loss: 0.7032 - accuracy: 0.5260\n",
      "Epoch 30/100\n",
      "36/48 [=====================>........] - ETA: 0s - loss: 0.7032 - accuracy: 0.5226WARNING:tensorflow:Can save best model only with val_loss available, skipping.\n",
      "48/48 [==============================] - 0s 3ms/step - loss: 0.7106 - accuracy: 0.5150\n",
      "Epoch 31/100\n",
      "38/48 [======================>.......] - ETA: 0s - loss: 0.7111 - accuracy: 0.5148WARNING:tensorflow:Can save best model only with val_loss available, skipping.\n",
      "48/48 [==============================] - 0s 3ms/step - loss: 0.7095 - accuracy: 0.5137\n",
      "Epoch 32/100\n",
      "41/48 [========================>.....] - ETA: 0s - loss: 0.6988 - accuracy: 0.5183WARNING:tensorflow:Can save best model only with val_loss available, skipping.\n"
     ]
    },
    {
     "name": "stdout",
     "output_type": "stream",
     "text": [
      "48/48 [==============================] - 0s 3ms/step - loss: 0.6983 - accuracy: 0.5202\n",
      "Epoch 33/100\n",
      "38/48 [======================>.......] - ETA: 0s - loss: 0.6958 - accuracy: 0.5238WARNING:tensorflow:Can save best model only with val_loss available, skipping.\n",
      "48/48 [==============================] - 0s 3ms/step - loss: 0.6949 - accuracy: 0.5195\n",
      "Epoch 34/100\n",
      "38/48 [======================>.......] - ETA: 0s - loss: 0.6990 - accuracy: 0.5238WARNING:tensorflow:Can save best model only with val_loss available, skipping.\n",
      "48/48 [==============================] - 0s 3ms/step - loss: 0.6985 - accuracy: 0.5215\n",
      "Epoch 35/100\n",
      "40/48 [========================>.....] - ETA: 0s - loss: 0.7093 - accuracy: 0.5172WARNING:tensorflow:Can save best model only with val_loss available, skipping.\n",
      "48/48 [==============================] - 0s 3ms/step - loss: 0.7074 - accuracy: 0.5156\n",
      "Epoch 36/100\n",
      "38/48 [======================>.......] - ETA: 0s - loss: 0.7020 - accuracy: 0.5329WARNING:tensorflow:Can save best model only with val_loss available, skipping.\n",
      "48/48 [==============================] - 0s 3ms/step - loss: 0.7034 - accuracy: 0.5221\n",
      "Epoch 37/100\n",
      "38/48 [======================>.......] - ETA: 0s - loss: 0.6932 - accuracy: 0.5132WARNING:tensorflow:Can save best model only with val_loss available, skipping.\n",
      "48/48 [==============================] - 0s 3ms/step - loss: 0.6958 - accuracy: 0.5189\n",
      "Epoch 38/100\n",
      "38/48 [======================>.......] - ETA: 0s - loss: 0.7006 - accuracy: 0.5140WARNING:tensorflow:Can save best model only with val_loss available, skipping.\n",
      "48/48 [==============================] - 0s 3ms/step - loss: 0.6998 - accuracy: 0.5169\n",
      "Epoch 39/100\n",
      "38/48 [======================>.......] - ETA: 0s - loss: 0.6901 - accuracy: 0.5304WARNING:tensorflow:Can save best model only with val_loss available, skipping.\n",
      "48/48 [==============================] - 0s 3ms/step - loss: 0.6887 - accuracy: 0.5358\n",
      "Epoch 40/100\n",
      "39/48 [=======================>......] - ETA: 0s - loss: 0.6961 - accuracy: 0.5240WARNING:tensorflow:Can save best model only with val_loss available, skipping.\n",
      "48/48 [==============================] - 0s 3ms/step - loss: 0.6979 - accuracy: 0.5228\n",
      "Epoch 41/100\n",
      "38/48 [======================>.......] - ETA: 0s - loss: 0.6958 - accuracy: 0.5493WARNING:tensorflow:Can save best model only with val_loss available, skipping.\n",
      "48/48 [==============================] - 0s 3ms/step - loss: 0.6936 - accuracy: 0.5456\n",
      "Epoch 42/100\n",
      "38/48 [======================>.......] - ETA: 0s - loss: 0.6879 - accuracy: 0.5271WARNING:tensorflow:Can save best model only with val_loss available, skipping.\n",
      "48/48 [==============================] - 0s 3ms/step - loss: 0.6892 - accuracy: 0.5228\n",
      "Epoch 43/100\n",
      "37/48 [======================>.......] - ETA: 0s - loss: 0.7000 - accuracy: 0.5262WARNING:tensorflow:Can save best model only with val_loss available, skipping.\n",
      "48/48 [==============================] - 0s 3ms/step - loss: 0.6994 - accuracy: 0.5378\n",
      "Epoch 44/100\n",
      "37/48 [======================>.......] - ETA: 0s - loss: 0.6865 - accuracy: 0.5397WARNING:tensorflow:Can save best model only with val_loss available, skipping.\n",
      "48/48 [==============================] - 0s 3ms/step - loss: 0.6849 - accuracy: 0.5462\n",
      "Epoch 45/100\n",
      "39/48 [=======================>......] - ETA: 0s - loss: 0.6951 - accuracy: 0.5288WARNING:tensorflow:Can save best model only with val_loss available, skipping.\n",
      "48/48 [==============================] - 0s 3ms/step - loss: 0.6914 - accuracy: 0.5423\n",
      "Epoch 46/100\n",
      "39/48 [=======================>......] - ETA: 0s - loss: 0.6857 - accuracy: 0.5409WARNING:tensorflow:Can save best model only with val_loss available, skipping.\n",
      "48/48 [==============================] - 0s 3ms/step - loss: 0.6840 - accuracy: 0.5410\n",
      "Epoch 47/100\n",
      "40/48 [========================>.....] - ETA: 0s - loss: 0.6889 - accuracy: 0.5445WARNING:tensorflow:Can save best model only with val_loss available, skipping.\n",
      "48/48 [==============================] - 0s 3ms/step - loss: 0.6977 - accuracy: 0.5449\n",
      "Epoch 48/100\n",
      "39/48 [=======================>......] - ETA: 0s - loss: 0.6874 - accuracy: 0.5240WARNING:tensorflow:Can save best model only with val_loss available, skipping.\n",
      "48/48 [==============================] - 0s 3ms/step - loss: 0.6848 - accuracy: 0.5423\n",
      "Epoch 49/100\n",
      "39/48 [=======================>......] - ETA: 0s - loss: 0.6795 - accuracy: 0.5729WARNING:tensorflow:Can save best model only with val_loss available, skipping.\n",
      "48/48 [==============================] - 0s 3ms/step - loss: 0.6788 - accuracy: 0.5664\n",
      "Epoch 50/100\n",
      "38/48 [======================>.......] - ETA: 0s - loss: 0.6728 - accuracy: 0.5740WARNING:tensorflow:Can save best model only with val_loss available, skipping.\n",
      "48/48 [==============================] - 0s 3ms/step - loss: 0.6722 - accuracy: 0.5762\n",
      "Epoch 51/100\n",
      "38/48 [======================>.......] - ETA: 0s - loss: 0.6790 - accuracy: 0.5567WARNING:tensorflow:Can save best model only with val_loss available, skipping.\n",
      "48/48 [==============================] - 0s 3ms/step - loss: 0.6771 - accuracy: 0.5547\n",
      "Epoch 52/100\n",
      "40/48 [========================>.....] - ETA: 0s - loss: 0.6730 - accuracy: 0.5648WARNING:tensorflow:Can save best model only with val_loss available, skipping.\n",
      "48/48 [==============================] - 0s 3ms/step - loss: 0.6755 - accuracy: 0.5553\n",
      "Epoch 53/100\n",
      "40/48 [========================>.....] - ETA: 0s - loss: 0.6738 - accuracy: 0.5664WARNING:tensorflow:Can save best model only with val_loss available, skipping.\n",
      "48/48 [==============================] - 0s 3ms/step - loss: 0.6814 - accuracy: 0.5690\n",
      "Epoch 54/100\n",
      "39/48 [=======================>......] - ETA: 0s - loss: 0.6770 - accuracy: 0.5449WARNING:tensorflow:Can save best model only with val_loss available, skipping.\n",
      "48/48 [==============================] - 0s 3ms/step - loss: 0.6731 - accuracy: 0.5553\n",
      "Epoch 55/100\n",
      "42/48 [=========================>....] - ETA: 0s - loss: 0.6751 - accuracy: 0.5595WARNING:tensorflow:Can save best model only with val_loss available, skipping.\n",
      "48/48 [==============================] - 0s 3ms/step - loss: 0.6726 - accuracy: 0.5612\n",
      "Epoch 56/100\n",
      "36/48 [=====================>........] - ETA: 0s - loss: 0.6779 - accuracy: 0.5521WARNING:tensorflow:Can save best model only with val_loss available, skipping.\n",
      "48/48 [==============================] - 0s 3ms/step - loss: 0.6753 - accuracy: 0.5534\n",
      "Epoch 57/100\n",
      "40/48 [========================>.....] - ETA: 0s - loss: 0.6573 - accuracy: 0.5680WARNING:tensorflow:Can save best model only with val_loss available, skipping.\n",
      "48/48 [==============================] - 0s 3ms/step - loss: 0.6577 - accuracy: 0.5710\n",
      "Epoch 58/100\n",
      "41/48 [========================>.....] - ETA: 0s - loss: 0.6642 - accuracy: 0.5625WARNING:tensorflow:Can save best model only with val_loss available, skipping.\n",
      "48/48 [==============================] - 0s 3ms/step - loss: 0.6599 - accuracy: 0.5703\n",
      "Epoch 59/100\n",
      "41/48 [========================>.....] - ETA: 0s - loss: 0.6462 - accuracy: 0.5724WARNING:tensorflow:Can save best model only with val_loss available, skipping.\n",
      "48/48 [==============================] - 0s 3ms/step - loss: 0.6485 - accuracy: 0.5703\n",
      "Epoch 60/100\n",
      "38/48 [======================>.......] - ETA: 0s - loss: 0.6515 - accuracy: 0.5715WARNING:tensorflow:Can save best model only with val_loss available, skipping.\n",
      "48/48 [==============================] - 0s 3ms/step - loss: 0.6508 - accuracy: 0.5710\n",
      "Epoch 61/100\n",
      "37/48 [======================>.......] - ETA: 0s - loss: 0.6462 - accuracy: 0.5600WARNING:tensorflow:Can save best model only with val_loss available, skipping.\n",
      "48/48 [==============================] - 0s 3ms/step - loss: 0.6467 - accuracy: 0.5632\n",
      "Epoch 62/100\n",
      "36/48 [=====================>........] - ETA: 0s - loss: 0.6380 - accuracy: 0.6033WARNING:tensorflow:Can save best model only with val_loss available, skipping.\n",
      "48/48 [==============================] - 0s 3ms/step - loss: 0.6388 - accuracy: 0.6003\n",
      "Epoch 63/100\n",
      "41/48 [========================>.....] - ETA: 0s - loss: 0.6453 - accuracy: 0.5991WARNING:tensorflow:Can save best model only with val_loss available, skipping.\n",
      "48/48 [==============================] - 0s 3ms/step - loss: 0.6431 - accuracy: 0.5931\n",
      "Epoch 64/100\n"
     ]
    },
    {
     "name": "stdout",
     "output_type": "stream",
     "text": [
      "36/48 [=====================>........] - ETA: 0s - loss: 0.6415 - accuracy: 0.6102WARNING:tensorflow:Can save best model only with val_loss available, skipping.\n",
      "48/48 [==============================] - 0s 3ms/step - loss: 0.6432 - accuracy: 0.6152\n",
      "Epoch 65/100\n",
      "41/48 [========================>.....] - ETA: 0s - loss: 0.6323 - accuracy: 0.6166WARNING:tensorflow:Can save best model only with val_loss available, skipping.\n",
      "48/48 [==============================] - 0s 3ms/step - loss: 0.6310 - accuracy: 0.6165\n",
      "Epoch 66/100\n",
      "40/48 [========================>.....] - ETA: 0s - loss: 0.6267 - accuracy: 0.6086WARNING:tensorflow:Can save best model only with val_loss available, skipping.\n",
      "48/48 [==============================] - 0s 3ms/step - loss: 0.6285 - accuracy: 0.6139\n",
      "Epoch 67/100\n",
      "40/48 [========================>.....] - ETA: 0s - loss: 0.6434 - accuracy: 0.6117WARNING:tensorflow:Can save best model only with val_loss available, skipping.\n",
      "48/48 [==============================] - 0s 3ms/step - loss: 0.6380 - accuracy: 0.6081\n",
      "Epoch 68/100\n",
      "38/48 [======================>.......] - ETA: 0s - loss: 0.6289 - accuracy: 0.6308WARNING:tensorflow:Can save best model only with val_loss available, skipping.\n",
      "48/48 [==============================] - 0s 3ms/step - loss: 0.6202 - accuracy: 0.6296\n",
      "Epoch 69/100\n",
      "37/48 [======================>.......] - ETA: 0s - loss: 0.6240 - accuracy: 0.6182WARNING:tensorflow:Can save best model only with val_loss available, skipping.\n",
      "48/48 [==============================] - 0s 3ms/step - loss: 0.6204 - accuracy: 0.6315\n",
      "Epoch 70/100\n",
      "42/48 [=========================>....] - ETA: 0s - loss: 0.6171 - accuracy: 0.6042WARNING:tensorflow:Can save best model only with val_loss available, skipping.\n",
      "48/48 [==============================] - 0s 3ms/step - loss: 0.6171 - accuracy: 0.6055\n",
      "Epoch 71/100\n",
      "37/48 [======================>.......] - ETA: 0s - loss: 0.6058 - accuracy: 0.6486WARNING:tensorflow:Can save best model only with val_loss available, skipping.\n",
      "48/48 [==============================] - 0s 3ms/step - loss: 0.6030 - accuracy: 0.6491\n",
      "Epoch 72/100\n",
      "40/48 [========================>.....] - ETA: 0s - loss: 0.5948 - accuracy: 0.6656WARNING:tensorflow:Can save best model only with val_loss available, skipping.\n",
      "48/48 [==============================] - 0s 3ms/step - loss: 0.5920 - accuracy: 0.6628\n",
      "Epoch 73/100\n",
      "44/48 [==========================>...] - ETA: 0s - loss: 0.5876 - accuracy: 0.6506WARNING:tensorflow:Can save best model only with val_loss available, skipping.\n",
      "48/48 [==============================] - 0s 2ms/step - loss: 0.5882 - accuracy: 0.6504\n",
      "Epoch 74/100\n",
      "38/48 [======================>.......] - ETA: 0s - loss: 0.5891 - accuracy: 0.6554WARNING:tensorflow:Can save best model only with val_loss available, skipping.\n",
      "48/48 [==============================] - 0s 3ms/step - loss: 0.5803 - accuracy: 0.6634\n",
      "Epoch 75/100\n",
      "38/48 [======================>.......] - ETA: 0s - loss: 0.5611 - accuracy: 0.6949WARNING:tensorflow:Can save best model only with val_loss available, skipping.\n",
      "48/48 [==============================] - 0s 3ms/step - loss: 0.5694 - accuracy: 0.6836\n",
      "Epoch 76/100\n",
      "37/48 [======================>.......] - ETA: 0s - loss: 0.5529 - accuracy: 0.6917WARNING:tensorflow:Can save best model only with val_loss available, skipping.\n",
      "48/48 [==============================] - 0s 3ms/step - loss: 0.5534 - accuracy: 0.6960\n",
      "Epoch 77/100\n",
      "33/48 [===================>..........] - ETA: 0s - loss: 0.5620 - accuracy: 0.7064WARNING:tensorflow:Can save best model only with val_loss available, skipping.\n",
      "48/48 [==============================] - 0s 3ms/step - loss: 0.5620 - accuracy: 0.7038\n",
      "Epoch 78/100\n",
      "35/48 [====================>.........] - ETA: 0s - loss: 0.5280 - accuracy: 0.7205WARNING:tensorflow:Can save best model only with val_loss available, skipping.\n",
      "48/48 [==============================] - 0s 3ms/step - loss: 0.5359 - accuracy: 0.7174\n",
      "Epoch 79/100\n",
      "34/48 [====================>.........] - ETA: 0s - loss: 0.5302 - accuracy: 0.7050WARNING:tensorflow:Can save best model only with val_loss available, skipping.\n",
      "48/48 [==============================] - 0s 3ms/step - loss: 0.5239 - accuracy: 0.7103\n",
      "Epoch 80/100\n",
      "35/48 [====================>.........] - ETA: 0s - loss: 0.5355 - accuracy: 0.7214WARNING:tensorflow:Can save best model only with val_loss available, skipping.\n",
      "48/48 [==============================] - 0s 3ms/step - loss: 0.5466 - accuracy: 0.7090\n",
      "Epoch 81/100\n",
      "36/48 [=====================>........] - ETA: 0s - loss: 0.5302 - accuracy: 0.7153WARNING:tensorflow:Can save best model only with val_loss available, skipping.\n",
      "48/48 [==============================] - 0s 3ms/step - loss: 0.5283 - accuracy: 0.7181\n",
      "Epoch 82/100\n",
      "34/48 [====================>.........] - ETA: 0s - loss: 0.5039 - accuracy: 0.7335WARNING:tensorflow:Can save best model only with val_loss available, skipping.\n",
      "48/48 [==============================] - 0s 3ms/step - loss: 0.5068 - accuracy: 0.7324\n",
      "Epoch 83/100\n",
      "36/48 [=====================>........] - ETA: 0s - loss: 0.5004 - accuracy: 0.7457WARNING:tensorflow:Can save best model only with val_loss available, skipping.\n",
      "48/48 [==============================] - 0s 3ms/step - loss: 0.5031 - accuracy: 0.7370\n",
      "Epoch 84/100\n",
      "32/48 [===================>..........] - ETA: 0s - loss: 0.5010 - accuracy: 0.7559WARNING:tensorflow:Can save best model only with val_loss available, skipping.\n",
      "48/48 [==============================] - 0s 3ms/step - loss: 0.4885 - accuracy: 0.7585\n",
      "Epoch 85/100\n",
      "34/48 [====================>.........] - ETA: 0s - loss: 0.5029 - accuracy: 0.7509WARNING:tensorflow:Can save best model only with val_loss available, skipping.\n",
      "48/48 [==============================] - 0s 3ms/step - loss: 0.5015 - accuracy: 0.7467\n",
      "Epoch 86/100\n",
      "35/48 [====================>.........] - ETA: 0s - loss: 0.4813 - accuracy: 0.7554WARNING:tensorflow:Can save best model only with val_loss available, skipping.\n",
      "48/48 [==============================] - 0s 3ms/step - loss: 0.4753 - accuracy: 0.7533\n",
      "Epoch 87/100\n",
      "36/48 [=====================>........] - ETA: 0s - loss: 0.4558 - accuracy: 0.7708WARNING:tensorflow:Can save best model only with val_loss available, skipping.\n",
      "48/48 [==============================] - 0s 3ms/step - loss: 0.4481 - accuracy: 0.7754\n",
      "Epoch 88/100\n",
      "48/48 [==============================] - ETA: 0s - loss: 0.4810 - accuracy: 0.7637WARNING:tensorflow:Can save best model only with val_loss available, skipping.\n",
      "48/48 [==============================] - 0s 3ms/step - loss: 0.4810 - accuracy: 0.7637\n",
      "Epoch 89/100\n",
      "34/48 [====================>.........] - ETA: 0s - loss: 0.4671 - accuracy: 0.7518WARNING:tensorflow:Can save best model only with val_loss available, skipping.\n",
      "48/48 [==============================] - 0s 3ms/step - loss: 0.4642 - accuracy: 0.7526\n",
      "Epoch 90/100\n",
      "34/48 [====================>.........] - ETA: 0s - loss: 0.4621 - accuracy: 0.7610WARNING:tensorflow:Can save best model only with val_loss available, skipping.\n",
      "48/48 [==============================] - 0s 3ms/step - loss: 0.4565 - accuracy: 0.7708\n",
      "Epoch 91/100\n",
      "35/48 [====================>.........] - ETA: 0s - loss: 0.4554 - accuracy: 0.7652WARNING:tensorflow:Can save best model only with val_loss available, skipping.\n",
      "48/48 [==============================] - 0s 3ms/step - loss: 0.4543 - accuracy: 0.7715\n",
      "Epoch 92/100\n",
      "48/48 [==============================] - ETA: 0s - loss: 0.4697 - accuracy: 0.7467WARNING:tensorflow:Can save best model only with val_loss available, skipping.\n",
      "48/48 [==============================] - 0s 3ms/step - loss: 0.4697 - accuracy: 0.7467\n",
      "Epoch 93/100\n",
      "38/48 [======================>.......] - ETA: 0s - loss: 0.4617 - accuracy: 0.7812WARNING:tensorflow:Can save best model only with val_loss available, skipping.\n",
      "48/48 [==============================] - 0s 3ms/step - loss: 0.4630 - accuracy: 0.7741\n",
      "Epoch 94/100\n",
      "34/48 [====================>.........] - ETA: 0s - loss: 0.4440 - accuracy: 0.7693WARNING:tensorflow:Can save best model only with val_loss available, skipping.\n",
      "48/48 [==============================] - 0s 3ms/step - loss: 0.4374 - accuracy: 0.7793\n",
      "Epoch 95/100\n",
      "33/48 [===================>..........] - ETA: 0s - loss: 0.4388 - accuracy: 0.7689WARNING:tensorflow:Can save best model only with val_loss available, skipping.\n"
     ]
    },
    {
     "name": "stdout",
     "output_type": "stream",
     "text": [
      "48/48 [==============================] - 0s 3ms/step - loss: 0.4306 - accuracy: 0.7852\n",
      "Epoch 96/100\n",
      "36/48 [=====================>........] - ETA: 0s - loss: 0.4325 - accuracy: 0.7899WARNING:tensorflow:Can save best model only with val_loss available, skipping.\n",
      "48/48 [==============================] - 0s 3ms/step - loss: 0.4321 - accuracy: 0.7923\n",
      "Epoch 97/100\n",
      "34/48 [====================>.........] - ETA: 0s - loss: 0.4301 - accuracy: 0.7904WARNING:tensorflow:Can save best model only with val_loss available, skipping.\n",
      "48/48 [==============================] - 0s 3ms/step - loss: 0.4256 - accuracy: 0.7871\n",
      "Epoch 98/100\n",
      "34/48 [====================>.........] - ETA: 0s - loss: 0.4296 - accuracy: 0.7868WARNING:tensorflow:Can save best model only with val_loss available, skipping.\n",
      "48/48 [==============================] - 0s 3ms/step - loss: 0.4304 - accuracy: 0.7891\n",
      "Epoch 99/100\n",
      "38/48 [======================>.......] - ETA: 0s - loss: 0.4146 - accuracy: 0.8059WARNING:tensorflow:Can save best model only with val_loss available, skipping.\n",
      "48/48 [==============================] - 0s 3ms/step - loss: 0.4102 - accuracy: 0.8066\n",
      "Epoch 100/100\n",
      "36/48 [=====================>........] - ETA: 0s - loss: 0.4004 - accuracy: 0.7969WARNING:tensorflow:Can save best model only with val_loss available, skipping.\n",
      "48/48 [==============================] - 0s 3ms/step - loss: 0.4089 - accuracy: 0.7956\n",
      "Training completed in time:  0:00:14.920610\n"
     ]
    }
   ],
   "source": [
    "## Trianing my model\n",
    "from tensorflow.keras.callbacks import ModelCheckpoint\n",
    "from datetime import datetime \n",
    "\n",
    "num_epochs = 100\n",
    "num_batch_size = 32\n",
    "\n",
    "checkpointer = ModelCheckpoint(filepath='saved_models/audio_classification.hdf5', \n",
    "                               verbose=1, save_best_only=True)\n",
    "start = datetime.now()\n",
    "\n",
    "model.fit(X_train, y_train, batch_size=num_batch_size, epochs=num_epochs, callbacks=[checkpointer], verbose=1)\n",
    "\n",
    "\n",
    "duration = datetime.now() - start\n",
    "print(\"Training completed in time: \", duration)\n"
   ]
  },
  {
   "cell_type": "code",
   "execution_count": 19,
   "id": "52073eaa",
   "metadata": {},
   "outputs": [
    {
     "name": "stdout",
     "output_type": "stream",
     "text": [
      "0.8489583134651184\n"
     ]
    }
   ],
   "source": [
    "test_accuracy=model.evaluate(X_test,y_test,verbose=0)\n",
    "print(test_accuracy[1])"
   ]
  },
  {
   "cell_type": "code",
   "execution_count": null,
   "id": "4700ffba",
   "metadata": {},
   "outputs": [],
   "source": []
  }
 ],
 "metadata": {
  "kernelspec": {
   "display_name": "Python 3 (ipykernel)",
   "language": "python",
   "name": "python3"
  },
  "language_info": {
   "codemirror_mode": {
    "name": "ipython",
    "version": 3
   },
   "file_extension": ".py",
   "mimetype": "text/x-python",
   "name": "python",
   "nbconvert_exporter": "python",
   "pygments_lexer": "ipython3",
   "version": "3.10.8"
  }
 },
 "nbformat": 4,
 "nbformat_minor": 5
}
